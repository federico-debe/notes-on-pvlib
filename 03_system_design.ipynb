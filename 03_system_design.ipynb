{
 "cells": [
  {
   "cell_type": "markdown",
   "id": "366ba8b1",
   "metadata": {},
   "source": [
    "#### Step 0\n",
    "\n",
    "0. defining location\n",
    "1. defining peak power and technology type\n",
    "2. define TRACKING_TYPE (fixed, single axis, two axes)\n",
    "3. define RACKING_MODEL\n",
    "4. define TILT (used both for fixed modules and single axis tracking)\n",
    "5. define AZIMUTH (used both for fixed modules and single axis tracking)\n",
    "6. define the surface type\n",
    "\n",
    "based on such information, the user should be able to:\n",
    "\n",
    "7. choose the module\n",
    "8. choose the inverter"
   ]
  },
  {
   "cell_type": "markdown",
   "id": "1f7ffba3",
   "metadata": {},
   "source": [
    "1) Goals & site\n",
    "\n",
    "- Location: Latitude/Longitude (map pin), auto-fill altitude (pvgis).\n",
    "- Target peak power (kWp) and Max area (m²) (optional).\n",
    "- Tech type (dropdown): TechChoice.\n",
    "- Tracking type (dropdown): TrackingType.\n",
    "- Mounting place (dropdown): RackingType\n",
    "- Azimuth (dial/compass) & Tilt (slider).\n",
    "- Surface type (dropdown → sets albedo): SurfaceType"
   ]
  },
  {
   "cell_type": "markdown",
   "id": "0e5b518b",
   "metadata": {},
   "source": [
    "First of all we are going to load the default data"
   ]
  },
  {
   "cell_type": "code",
   "execution_count": 1,
   "id": "cd8ab514",
   "metadata": {},
   "outputs": [],
   "source": [
    "from common.enums import PriceType\n",
    "from models.gisrecs.aggregate_basic_info import AggregateBasicInfo\n",
    "from models.gisrecs.energy_plant_edit_info_container import EnergyPlantEditInfoContainer\n",
    "from models.gisrecs.pod_basic_info import PoDBasicInfo\n",
    "from models.gisrecs.prices_search_info_container import TechnologyPriceDetail, TechnologyPriceInfoContainer\n",
    "\n",
    "\n",
    "payload = EnergyPlantEditInfoContainer(\n",
    "        project_uri=str('96051c0d-b960-439b-aa81-de9f24ea9c04'),\n",
    "        latitude=round(float(41.9028), 6),\n",
    "        longitude=round(float(12.4964), 6),\n",
    "        selected_aggregate=AggregateBasicInfo(\n",
    "            uri=str('db6d447f-7cf2-44d7-b44d-1bf31d7b7dd4'),\n",
    "            name='test aggregate'\n",
    "        ),\n",
    "        selected_pod=PoDBasicInfo(\n",
    "            uri=str('2eadcc55-f372-423a-9371-01adf19036e0'),\n",
    "            code='IT00EXXXXXXXXXX',\n",
    "            pod_type=1\n",
    "            ),\n",
    "        battery=None,\n",
    "        existing_energy_plants=[\n",
    "            *[\n",
    "            ], \n",
    "            *[\n",
    "            ]\n",
    "        ],\n",
    "        pv_uris_with_battery_connection=[\n",
    "        ],\n",
    "        prices = [\n",
    "            TechnologyPriceInfoContainer(\n",
    "                name='test pv price',\n",
    "                price_type=PriceType.TECHNOLOGY_PRICE,\n",
    "                price_status=0,\n",
    "                count=1,\n",
    "                price_details=[\n",
    "                    TechnologyPriceDetail(\n",
    "                        capex_price_kwh=250,\n",
    "                        opex_price_kwh=15,\n",
    "                        inverter_cost=2000,\n",
    "                        technology_type=0,\n",
    "                        minimum_power=0,\n",
    "                        maximum_power=10000,\n",
    "                    )\n",
    "                ]\n",
    "            )\n",
    "        ],\n",
    "        simulation_precision=1000\n",
    "    )"
   ]
  },
  {
   "cell_type": "markdown",
   "id": "1098ba76",
   "metadata": {},
   "source": [
    "The user will have to insert the mandatory fields"
   ]
  },
  {
   "cell_type": "code",
   "execution_count": 2,
   "id": "fcd47f4f",
   "metadata": {},
   "outputs": [],
   "source": [
    "from apis.pvlib_helper.geographical_helper import GeographicalHelper\n",
    "from common.enums import EnergyPlantType, RackingType, SurfaceType, TechChoice, TrackingType\n",
    "from models.gisrecs.energy_plant_edit_info_container import RequestedPVSystemCharacteristics\n",
    "from models.gisrecs.tech_components_criteria import TechComponentsCriteria\n",
    "\n",
    "\n",
    "payload.plant_type = EnergyPlantType.PV\n",
    "payload.requested_pv_system_characteristics.append(\n",
    "    RequestedPVSystemCharacteristics(\n",
    "        peak_power = 6,\n",
    "        angle = 11.5,\n",
    "        aspect = 0,\n",
    "        square_meters=0\n",
    "    )\n",
    ")\n",
    "payload.tracking_type = TrackingType.fixed\n",
    "payload.mounting_place = RackingType.semi_integrated\n",
    "payload.material = TechChoice.Mono_c_Si\n",
    "payload.surface_type = SurfaceType.concrete\n",
    "altitude = GeographicalHelper.get_elevation_opentopo(lat=payload.latitude, lon=payload.longitude)\n",
    "payload.set_altitude(altitude)\n",
    "\n",
    "criteria = TechComponentsCriteria(\n",
    "    requested_dc_kwp=payload.total_peak_power,\n",
    "    latitude=payload.latitude,\n",
    "    longitude=payload.longitude,\n",
    "    altitude=payload.altitude,\n",
    "    material=payload.material,\n",
    "    mounting_place=payload.mounting_place,\n",
    "    surface_type=payload.surface_type\n",
    ")"
   ]
  },
  {
   "cell_type": "markdown",
   "id": "21e23295",
   "metadata": {},
   "source": [
    "At this point we have all the elements to choose the pv module technology and/or the inverter technology."
   ]
  },
  {
   "cell_type": "code",
   "execution_count": 3,
   "id": "569297a0",
   "metadata": {},
   "outputs": [],
   "source": [
    "from apis.pvlib_helper.geographical_helper import GeographicalHelper\n",
    "from apis.pvlib_helper.pvsystems_helper import PVSystemHelper\n",
    "\n",
    "\n",
    "pv_system_helper = PVSystemHelper()\n",
    "\n",
    "u_c, u_v = RackingType.get_default_model_temperature_params(criteria.mounting_place)\n",
    "hot_temperature, cold_temperature = GeographicalHelper.get_extreme_ambient_temperatures(\n",
    "    lat=criteria.latitude, \n",
    "    lon=criteria.longitude, \n",
    "    altitude=criteria.altitude,\n",
    "    surface_type=criteria.surface_type.name if payload.surface_type is not None else None,\n",
    "    racking_type=criteria.mounting_place.name\n",
    "    )\n",
    "filtered_modules = pv_system_helper.get_cec_modules_by_tech_choice(TechChoice.get_tech_choice_descritpion(criteria.material))\n",
    "filtered_modules = pv_system_helper.filter_legacy_or_out_of_scope_cec_modules(filtered_modules)\n",
    "filtered_modules = pv_system_helper.filter_cec_modules_by_racking_type(filtered_modules, criteria.mounting_place)\n",
    "filtered_inverters = pv_system_helper.get_cec_inverters_by_kwp(criteria.requested_dc_kwp)\n",
    "filtered_modules, filtered_inverters = pv_system_helper.filter_cec_modules_by_voltage(\n",
    "    filtered_modules.T,\n",
    "    filtered_inverters,\n",
    "    u_v=u_v,\n",
    "    u_c=u_c,\n",
    "    hot_temperature_ambient=hot_temperature,\n",
    "    cold_temperature_ambient=cold_temperature\n",
    ")"
   ]
  },
  {
   "cell_type": "code",
   "execution_count": 4,
   "id": "a721951a",
   "metadata": {},
   "outputs": [],
   "source": [
    "from models.simulatorrecs.pv_plant import InverterBasicInfo, ModuleBasicInfo, TechComponentEditInfoContainer\n",
    "\n",
    "possible_tech_components = TechComponentEditInfoContainer(\n",
    "    u_c=u_c,\n",
    "    u_v=u_v,\n",
    "    hot_ambient_temperature=hot_temperature,\n",
    "    cold_ambient_temperature=cold_temperature,\n",
    "    modules=[ModuleBasicInfo(name=name, nominal_power=m['STC']) for name, m in filtered_modules.T.iterrows()],\n",
    "    inverters=[InverterBasicInfo(name=name, nominal_power=i['Paco']) for name, i in filtered_inverters.T.iterrows()]\n",
    ")"
   ]
  },
  {
   "cell_type": "markdown",
   "id": "15ae5d5e",
   "metadata": {},
   "source": [
    "##### User chooses the pv module\n",
    "\n",
    "the app must, then, filter again the dropdown of the technology that the user has not picked yet. The procedure is the same for the two choices, since the method pv_system_helper.filter_cec_modules_by_voltage deals with it."
   ]
  },
  {
   "cell_type": "code",
   "execution_count": 5,
   "id": "11bc87e8",
   "metadata": {},
   "outputs": [],
   "source": [
    "possible_tech_components.module = possible_tech_components.modules[0]"
   ]
  },
  {
   "cell_type": "code",
   "execution_count": 6,
   "id": "7be5b8e8",
   "metadata": {},
   "outputs": [],
   "source": [
    "import pandas as pd\n",
    "\n",
    "filtered_module = pd.DataFrame(filtered_modules[possible_tech_components.module.name])\n",
    "u_c, u_v = RackingType.get_default_model_temperature_params(criteria.mounting_place)\n",
    "filtered_modules, filtered_inverters = pv_system_helper.filter_cec_modules_by_voltage(\n",
    "    filtered_module.T,\n",
    "    filtered_inverters,\n",
    "    u_v=u_v,\n",
    "    u_c=u_c,\n",
    "    hot_temperature_ambient=hot_temperature,\n",
    "    cold_temperature_ambient=cold_temperature\n",
    ")\n",
    "possible_tech_components.modules = [ModuleBasicInfo(name=name, nominal_power=m['STC']) for name, m in filtered_modules.T.iterrows()]\n",
    "possible_tech_components.inverters = [InverterBasicInfo(name=name, nominal_power=i['Paco']) for name, i in filtered_inverters.T.iterrows()]"
   ]
  },
  {
   "cell_type": "code",
   "execution_count": 7,
   "id": "f270b0da",
   "metadata": {},
   "outputs": [],
   "source": [
    "possible_tech_components.inverter = possible_tech_components.inverters[0]"
   ]
  },
  {
   "cell_type": "markdown",
   "id": "c5080ff8",
   "metadata": {},
   "source": [
    "#### Step 1\n",
    "\n",
    "0. choosing the number of modules in series (n_series)\n",
    "1. choosing the number of series in parallel (n_strings)\n",
    "2. suggest an ideal number of inverters\n",
    "3. choose number of inverters\n",
    "4. output the actual peak power achieved\n",
    "5. the app must tell the user when the configuration he is forcing is not feasible"
   ]
  },
  {
   "cell_type": "code",
   "execution_count": null,
   "id": "178726ec",
   "metadata": {},
   "outputs": [
    {
     "ename": "AttributeError",
     "evalue": "'EnergyPlantEditInfoContainer' object has no attribute 'peak_power'",
     "output_type": "error",
     "traceback": [
      "\u001b[1;31m---------------------------------------------------------------------------\u001b[0m",
      "\u001b[1;31mAttributeError\u001b[0m                            Traceback (most recent call last)",
      "Cell \u001b[1;32mIn[8], line 5\u001b[0m\n\u001b[0;32m      1\u001b[0m \u001b[38;5;28;01mfrom\u001b[39;00m\u001b[38;5;250m \u001b[39m\u001b[38;5;21;01mmodels\u001b[39;00m\u001b[38;5;21;01m.\u001b[39;00m\u001b[38;5;21;01mgisrecs\u001b[39;00m\u001b[38;5;21;01m.\u001b[39;00m\u001b[38;5;21;01mpv_cabling_scheme\u001b[39;00m\u001b[38;5;250m \u001b[39m\u001b[38;5;28;01mimport\u001b[39;00m PvCablingScheme\n\u001b[0;32m      4\u001b[0m payload \u001b[38;5;241m=\u001b[39m PvCablingScheme(\n\u001b[1;32m----> 5\u001b[0m     peak_power\u001b[38;5;241m=\u001b[39m\u001b[43mpayload\u001b[49m\u001b[38;5;241;43m.\u001b[39;49m\u001b[43mpeak_power\u001b[49m,\n\u001b[0;32m      6\u001b[0m     latitude\u001b[38;5;241m=\u001b[39mpayload\u001b[38;5;241m.\u001b[39mlatitude,\n\u001b[0;32m      7\u001b[0m     longitude\u001b[38;5;241m=\u001b[39mpayload\u001b[38;5;241m.\u001b[39mlongitude,\n\u001b[0;32m      8\u001b[0m     altitude\u001b[38;5;241m=\u001b[39mpayload\u001b[38;5;241m.\u001b[39maltitude,\n\u001b[0;32m      9\u001b[0m     hot_ambient_temperature\u001b[38;5;241m=\u001b[39mpossible_tech_components\u001b[38;5;241m.\u001b[39mhot_ambient_temperature,\n\u001b[0;32m     10\u001b[0m     cold_ambient_temperature\u001b[38;5;241m=\u001b[39mpossible_tech_components\u001b[38;5;241m.\u001b[39mcold_ambient_temperature,\n\u001b[0;32m     11\u001b[0m     mounting_place\u001b[38;5;241m=\u001b[39mpayload\u001b[38;5;241m.\u001b[39mmounting_place,\n\u001b[0;32m     12\u001b[0m     module\u001b[38;5;241m=\u001b[39mpossible_tech_components\u001b[38;5;241m.\u001b[39mmodule,\n\u001b[0;32m     13\u001b[0m     inverter\u001b[38;5;241m=\u001b[39mpossible_tech_components\u001b[38;5;241m.\u001b[39minverter,\n\u001b[0;32m     14\u001b[0m     u_c\u001b[38;5;241m=\u001b[39mpossible_tech_components\u001b[38;5;241m.\u001b[39mu_c,\n\u001b[0;32m     15\u001b[0m     u_v\u001b[38;5;241m=\u001b[39mpossible_tech_components\u001b[38;5;241m.\u001b[39mu_v,\n\u001b[0;32m     16\u001b[0m     gcr\u001b[38;5;241m=\u001b[39mpossible_tech_components\u001b[38;5;241m.\u001b[39mgcr,\n\u001b[0;32m     17\u001b[0m     b_0\u001b[38;5;241m=\u001b[39mpossible_tech_components\u001b[38;5;241m.\u001b[39mb_0\n\u001b[0;32m     18\u001b[0m )\n",
      "File \u001b[1;32mc:\\dev\\data-analisys\\notes-on-pvlib\\venv\\lib\\site-packages\\pydantic\\main.py:1026\u001b[0m, in \u001b[0;36mBaseModel.__getattr__\u001b[1;34m(self, item)\u001b[0m\n\u001b[0;32m   1023\u001b[0m     \u001b[38;5;28;01mreturn\u001b[39;00m \u001b[38;5;28msuper\u001b[39m()\u001b[38;5;241m.\u001b[39m\u001b[38;5;21m__getattribute__\u001b[39m(item)  \u001b[38;5;66;03m# Raises AttributeError if appropriate\u001b[39;00m\n\u001b[0;32m   1024\u001b[0m \u001b[38;5;28;01melse\u001b[39;00m:\n\u001b[0;32m   1025\u001b[0m     \u001b[38;5;66;03m# this is the current error\u001b[39;00m\n\u001b[1;32m-> 1026\u001b[0m     \u001b[38;5;28;01mraise\u001b[39;00m \u001b[38;5;167;01mAttributeError\u001b[39;00m(\u001b[38;5;124mf\u001b[39m\u001b[38;5;124m'\u001b[39m\u001b[38;5;132;01m{\u001b[39;00m\u001b[38;5;28mtype\u001b[39m(\u001b[38;5;28mself\u001b[39m)\u001b[38;5;241m.\u001b[39m\u001b[38;5;18m__name__\u001b[39m\u001b[38;5;132;01m!r}\u001b[39;00m\u001b[38;5;124m object has no attribute \u001b[39m\u001b[38;5;132;01m{\u001b[39;00mitem\u001b[38;5;132;01m!r}\u001b[39;00m\u001b[38;5;124m'\u001b[39m)\n",
      "\u001b[1;31mAttributeError\u001b[0m: 'EnergyPlantEditInfoContainer' object has no attribute 'peak_power'"
     ]
    }
   ],
   "source": [
    "from models.gisrecs.pv_cabling_scheme import PvCablingScheme\n",
    "\n",
    "\n",
    "payload = PvCablingScheme(\n",
    "    peak_power=payload.total_peak_power,\n",
    "    latitude=payload.latitude,\n",
    "    longitude=payload.longitude,\n",
    "    altitude=payload.altitude,\n",
    "    hot_ambient_temperature=possible_tech_components.hot_ambient_temperature,\n",
    "    cold_ambient_temperature=possible_tech_components.cold_ambient_temperature,\n",
    "    mounting_place=payload.mounting_place,\n",
    "    module=possible_tech_components.module,\n",
    "    inverter=possible_tech_components.inverter,\n",
    "    u_c=possible_tech_components.u_c,\n",
    "    u_v=possible_tech_components.u_v,\n",
    "    gcr=possible_tech_components.gcr,\n",
    "    b_0=possible_tech_components.b_0\n",
    ")"
   ]
  },
  {
   "cell_type": "code",
   "execution_count": 9,
   "id": "5b982f85",
   "metadata": {},
   "outputs": [],
   "source": [
    "module = payload.get_module_parameters\n",
    "inverter = payload.get_inverter_parameters"
   ]
  },
  {
   "cell_type": "code",
   "execution_count": 10,
   "id": "c52e4824",
   "metadata": {},
   "outputs": [],
   "source": [
    "temperature_model_parameters = payload.get_temperature_model_parameters\n",
    "loc = payload.get_location"
   ]
  },
  {
   "cell_type": "code",
   "execution_count": 11,
   "id": "34355ba3",
   "metadata": {},
   "outputs": [],
   "source": [
    "n_series, n_strings, sizing = pv_system_helper.pick_stringing(\n",
    "    module, \n",
    "    inverter,\n",
    "    t_cell_cold=PVSystemHelper._estimate_cell_T(payload.cold_ambient_temperature, Uc=payload.u_c, Uv=payload.u_v), \n",
    "    t_cell_hot=PVSystemHelper._estimate_cell_T(payload.hot_ambient_temperature, Uc=payload.u_c, Uv=payload.u_v), \n",
    "    dc_ac_ratio=1.20\n",
    ")"
   ]
  },
  {
   "cell_type": "code",
   "execution_count": 12,
   "id": "25480c70",
   "metadata": {},
   "outputs": [
    {
     "name": "stdout",
     "output_type": "stream",
     "text": [
      "Picked: 7 modules per string, 1 strings\n",
      "Sanity: {'mppt_low': 100.0, 'mppt_high': 416.0, 'vdcmax': 416.0, 'idcmax': 15.486629, 'paco': 4600.0, 'Vmp_cold': 33.49912269436517, 'Vmp_hot': 23.688159989112602, 'Voc_cold': 42.476276036440595, 'n_series_min_by_mppt': 5, 'n_series_max_by_mppt': 12, 'n_series_max_by_voc': 9, 'chosen_series': 7, 'Pmp_module_stc': 350.35, 'Pmp_string_stc': 2452.4500000000003, 'dc_target_W': 5520.0, 'chosen_strings': 1, 'total_imp_hot': 8.951241616758685, 'n_mppt': None, 'strings_per_mppt': None, 'per_mppt_cap': None}\n"
     ]
    }
   ],
   "source": [
    "print(\"Picked:\", n_series, \"modules per string,\", n_strings, \"strings\")\n",
    "print(\"Sanity:\", sizing)"
   ]
  },
  {
   "cell_type": "code",
   "execution_count": 13,
   "id": "7b32f3ae",
   "metadata": {},
   "outputs": [],
   "source": [
    "payload.set_modules_per_string(n_series)\n",
    "payload.set_strings(n_strings)\n",
    "payload.set_number_of_inverters()"
   ]
  },
  {
   "cell_type": "code",
   "execution_count": 14,
   "id": "76e866bb",
   "metadata": {},
   "outputs": [
    {
     "data": {
      "text/plain": [
       "2"
      ]
     },
     "execution_count": 14,
     "metadata": {},
     "output_type": "execute_result"
    }
   ],
   "source": [
    "payload.number_of_inverters"
   ]
  },
  {
   "cell_type": "code",
   "execution_count": 15,
   "id": "bd75d6e0",
   "metadata": {},
   "outputs": [
    {
     "data": {
      "text/plain": [
       "4.9049000000000005"
      ]
     },
     "execution_count": 15,
     "metadata": {},
     "output_type": "execute_result"
    }
   ],
   "source": [
    "payload.effective_peak_power_dc"
   ]
  },
  {
   "cell_type": "code",
   "execution_count": 16,
   "id": "30cb3ceb",
   "metadata": {},
   "outputs": [
    {
     "data": {
      "text/plain": [
       "9.2"
      ]
     },
     "execution_count": 16,
     "metadata": {},
     "output_type": "execute_result"
    }
   ],
   "source": [
    "payload.effective_peak_power_ac"
   ]
  },
  {
   "cell_type": "code",
   "execution_count": 17,
   "id": "cb7898a4",
   "metadata": {},
   "outputs": [
    {
     "data": {
      "text/plain": [
       "0.5331413043478261"
      ]
     },
     "execution_count": 17,
     "metadata": {},
     "output_type": "execute_result"
    }
   ],
   "source": [
    "payload.dcac_ratio"
   ]
  },
  {
   "cell_type": "markdown",
   "id": "dce8fcc3",
   "metadata": {},
   "source": [
    "#### Step 2\n",
    "\n",
    "4. define MAX_ANGLE if it is single axis tracking\n",
    "5. define BACKTRACK if it is single axis tracking (True vs False)\n",
    "6. define GCR if it is single axis tracking (default 0.35)\n",
    "7. define temperature parameters (rules for default parameters is defined in class RackingType)\n",
    "8. define b0 parameter of the module for IAM coefficient (defulat 0.05) for the ashrae aoi model\n",
    "0. define wiring material (WiringMaterial enum)\n",
    "1. define wiring length\n",
    "2. define wiring cross section\n",
    "3. define AC_WIRING_FACTOR\n",
    "4. define AVAILABILITY\n",
    "5. define LID_FACTOR\n",
    "6. define MODULE_QUALITY_FACTOR\n",
    "7. define MISMATCH_FACTOR\n",
    "8. extract SOILING_MONTHLY (Monthly soiling transmittance)"
   ]
  },
  {
   "cell_type": "markdown",
   "id": "601675ca",
   "metadata": {},
   "source": []
  },
  {
   "cell_type": "markdown",
   "id": "3c0c459e",
   "metadata": {},
   "source": []
  },
  {
   "cell_type": "markdown",
   "id": "881f5816",
   "metadata": {},
   "source": []
  },
  {
   "cell_type": "markdown",
   "id": "2cd84357",
   "metadata": {},
   "source": []
  }
 ],
 "metadata": {
  "kernelspec": {
   "display_name": "venv",
   "language": "python",
   "name": "python3"
  },
  "language_info": {
   "codemirror_mode": {
    "name": "ipython",
    "version": 3
   },
   "file_extension": ".py",
   "mimetype": "text/x-python",
   "name": "python",
   "nbconvert_exporter": "python",
   "pygments_lexer": "ipython3",
   "version": "3.10.1"
  }
 },
 "nbformat": 4,
 "nbformat_minor": 5
}
