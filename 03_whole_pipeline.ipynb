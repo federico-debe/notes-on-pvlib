{
 "cells": [
  {
   "cell_type": "markdown",
   "id": "366ba8b1",
   "metadata": {},
   "source": [
    "#### Step 0\n",
    "\n",
    "0. defining location\n",
    "1. defining peak power and technology type\n",
    "2. define TRACKING_TYPE (fixed, single axis, two axes)\n",
    "3. define RACKING_MODEL\n",
    "4. define TILT (used both for fixed modules and single axis tracking)\n",
    "5. define AZIMUTH (used both for fixed modules and single axis tracking)\n",
    "6. define the surface type\n",
    "\n",
    "based on such information, the user should be able to:\n",
    "\n",
    "7. choose the module\n",
    "8. choose the inverter"
   ]
  },
  {
   "cell_type": "markdown",
   "id": "1f7ffba3",
   "metadata": {},
   "source": [
    "1) Goals & site\n",
    "\n",
    "Location: Latitude/Longitude (map pin), auto-fill altitude (pvgis).\n",
    "Target peak power (kWp) and Max area (m²) (optional).\n",
    "Tech type (dropdown): TechChoice.\n",
    "Tracking type (dropdown): TrackingType.\n",
    "Mounting place (dropdown): RackingType\n",
    "Azimuth (dial/compass) & Tilt (slider).\n",
    "Surface type (dropdown → sets albedo): SurfaceType"
   ]
  },
  {
   "cell_type": "code",
   "execution_count": 1,
   "id": "7a4b359a",
   "metadata": {},
   "outputs": [],
   "source": [
    "from pvlib.pvsystem import retrieve_sam\n",
    "\n",
    "from common.enums import RackingType, SurfaceType, TechChoice, TrackingType\n",
    "from models.simulatorrecs.pv_plant import PVPlant\n",
    "\n",
    "# input after selecting kwp, lat, lon, tech_choice\n",
    "# TODO: substitute with EnergyPlantEditInfoContainer\n",
    "# TODO: evaluate possibility of the creation of a new model and endpoint for creation --> CablingSchemeEditInfoContainer\n",
    "pv_plant = PVPlant(\n",
    "    uri='',\n",
    "    pod='IT000E00092',\n",
    "    pod_uri='paidsfhgapghadg',\n",
    "    kwp=1000,\n",
    "    maximum_area=0,\n",
    "    latitude=41.9028,\n",
    "    longitude=12.4964,\n",
    "    angle=21.2,\n",
    "    aspect=0,\n",
    "    tech_choice=TechChoice.Mono_c_Si,\n",
    "    tracking_type=TrackingType.fixed,\n",
    "    mounting_place=RackingType.semi_integrated,\n",
    "    surface_type=SurfaceType.concrete,\n",
    "    percentage_loss=17,\n",
    "    yearly_loss=0.5,\n",
    ")"
   ]
  },
  {
   "cell_type": "code",
   "execution_count": 2,
   "id": "569297a0",
   "metadata": {},
   "outputs": [],
   "source": [
    "from apis.pvlib_helper.geographical_helper import GeographicalHelper\n",
    "from apis.pvlib_helper.pvsystems_helper import PVSystemHelper\n",
    "\n",
    "\n",
    "pv_system_helper = PVSystemHelper()\n",
    "cecmodules = retrieve_sam('cecmod')\n",
    "inverters = retrieve_sam('cecinverter')\n",
    "u_c, u_v = RackingType.get_default_model_temperature_params(pv_plant.mounting_place)\n",
    "altitude = GeographicalHelper.get_elevation_opentopo(lat=pv_plant.latitude, lon=pv_plant.longitude)\n",
    "hot_temperature, cold_temperature = GeographicalHelper.get_extreme_ambient_temperatures(\n",
    "    lat=pv_plant.latitude, \n",
    "    lon=pv_plant.longitude, \n",
    "    altitude=altitude,\n",
    "    surface_type=pv_plant.surface_type.name if pv_plant.surface_type is not None else None,\n",
    "    racking_type=pv_plant.mounting_place.name,\n",
    "    tilt_angle=pv_plant.angle\n",
    "    )\n",
    "filtered_modules = pv_system_helper.get_cec_modules_by_tech_choice(pv_plant.get_tech_choice_description)\n",
    "filtered_modules = pv_system_helper.filter_legacy_or_out_of_scope_cec_modules(filtered_modules)\n",
    "filtered_modules = pv_system_helper.filter_cec_modules_by_racking_type(filtered_modules, pv_plant.mounting_place)\n",
    "filtered_inverters = pv_system_helper.get_cec_inverters_by_kwp(pv_plant.kwp)\n",
    "filtered_modules, filtered_inverters = pv_system_helper.filter_cec_modules_by_voltage(\n",
    "    filtered_modules.T,\n",
    "    filtered_inverters,\n",
    "    u_v=u_v,\n",
    "    u_c=u_c,\n",
    "    hot_temperature_ambient=hot_temperature,\n",
    "    cold_temperature_ambient=cold_temperature\n",
    ")\n"
   ]
  },
  {
   "cell_type": "code",
   "execution_count": 3,
   "id": "a721951a",
   "metadata": {},
   "outputs": [],
   "source": [
    "from models.simulatorrecs.pv_plant import InverterBasicInfo, ModuleBasicInfo\n",
    "\n",
    "\n",
    "pv_plant.set_altitude(altitude)\n",
    "pv_plant.set_modules([ModuleBasicInfo(name=name, nominal_power=m['STC']) for name, m in filtered_modules.T.iterrows()])\n",
    "pv_plant.set_inverters([InverterBasicInfo(name=name, nominal_power=i['Paco']) for name, i in filtered_inverters.T.iterrows()])"
   ]
  },
  {
   "cell_type": "markdown",
   "id": "15ae5d5e",
   "metadata": {},
   "source": [
    "##### User chooses either a pv module OR an inverter\n",
    "\n",
    "the app must, then, filter again the dropdown of the technology that the user has not picked yet. The procedure is the same for the two choices, since the method pv_system_helper.filter_cec_modules_by_voltage deals with it."
   ]
  },
  {
   "cell_type": "code",
   "execution_count": 4,
   "id": "f270b0da",
   "metadata": {},
   "outputs": [
    {
     "data": {
      "text/plain": [
       "InverterBasicInfo(name='AEG_Power_Solutions__Protect_MPV_075_01__480V_', nominal_power=75000.0)"
      ]
     },
     "execution_count": 4,
     "metadata": {},
     "output_type": "execute_result"
    }
   ],
   "source": [
    "picked_inverter = pv_plant.inverter_names[0]\n",
    "pv_plant.inverter_name = picked_inverter.name\n",
    "picked_inverter"
   ]
  },
  {
   "cell_type": "code",
   "execution_count": 5,
   "id": "fde5b8df",
   "metadata": {},
   "outputs": [],
   "source": [
    "import pandas as pd\n",
    "\n",
    "filtered_inverter = pd.DataFrame(filtered_inverters[picked_inverter.name])\n",
    "\n",
    "filtered_modules, filtered_inverters = pv_system_helper.filter_cec_modules_by_voltage(\n",
    "    filtered_modules.T,\n",
    "    filtered_inverter,\n",
    "    u_v=u_v,\n",
    "    u_c=u_c,\n",
    "    hot_temperature_ambient=hot_temperature,\n",
    "    cold_temperature_ambient=cold_temperature\n",
    ")\n",
    "pv_plant.set_modules([ModuleBasicInfo(name=name, nominal_power=m['STC']) for name, m in filtered_modules.T.iterrows()])\n",
    "pv_plant.set_inverters([InverterBasicInfo(name=name, nominal_power=i['Paco']) for name, i in filtered_inverters.T.iterrows()])"
   ]
  },
  {
   "cell_type": "code",
   "execution_count": 6,
   "id": "96981cda",
   "metadata": {},
   "outputs": [],
   "source": [
    "picked_module = pv_plant.module_names[0]\n",
    "pv_plant.module_name = picked_module.name"
   ]
  },
  {
   "cell_type": "markdown",
   "id": "c5080ff8",
   "metadata": {},
   "source": [
    "#### Step 1\n",
    "\n",
    "0. choosing the number of modules in series (n_series)\n",
    "1. choosing the number of series in parallel (n_strings)\n",
    "2. suggest an ideal number of inverters\n",
    "3. choose number of inverters\n",
    "4. output the actual peak power achieved\n",
    "5. the app must tell the user when the configuration he is forcing is not feasible"
   ]
  },
  {
   "cell_type": "code",
   "execution_count": 7,
   "id": "5b982f85",
   "metadata": {},
   "outputs": [],
   "source": [
    "module = pv_plant.get_module_parameters\n",
    "inverter = pv_plant.get_inverter_parameters"
   ]
  },
  {
   "cell_type": "code",
   "execution_count": 8,
   "id": "c52e4824",
   "metadata": {},
   "outputs": [],
   "source": [
    "temperature_model_parameters = pv_plant.get_temperature_model_parameters\n",
    "loc = pv_plant.get_location"
   ]
  },
  {
   "cell_type": "code",
   "execution_count": 9,
   "id": "34355ba3",
   "metadata": {},
   "outputs": [],
   "source": [
    "n_series, n_strings, sizing = pv_system_helper.pick_stringing(\n",
    "    module, \n",
    "    inverter,\n",
    "    t_cell_cold=PVSystemHelper._estimate_cell_T(cold_temperature, Uc=u_c, Uv=u_v), \n",
    "    t_cell_hot=PVSystemHelper._estimate_cell_T(hot_temperature, Uc=u_c, Uv=u_v), \n",
    "    dc_ac_ratio=1.20\n",
    ")"
   ]
  },
  {
   "cell_type": "code",
   "execution_count": 10,
   "id": "25480c70",
   "metadata": {},
   "outputs": [
    {
     "name": "stdout",
     "output_type": "stream",
     "text": [
      "Picked: 16 modules per string, 19 strings\n",
      "Sanity: {'mppt_low': 305.0, 'mppt_high': 595.0, 'vdcmax': 595.0, 'idcmax': 192.022126, 'paco': 75000.0, 'Vmp_cold': 28.972975782978416, 'Vmp_hot': 19.66141176844082, 'Voc_cold': 34.849126317019, 'n_series_min_by_mppt': 16, 'n_series_max_by_mppt': 20, 'n_series_max_by_voc': 16, 'chosen_series': 16, 'Pmp_module_stc': 290.157, 'Pmp_string_stc': 4642.512, 'dc_target_W': 90000.0, 'chosen_strings': 19, 'total_imp_hot': 163.32237878098036}\n"
     ]
    }
   ],
   "source": [
    "print(\"Picked:\", n_series, \"modules per string,\", n_strings, \"strings\")\n",
    "print(\"Sanity:\", sizing)"
   ]
  },
  {
   "cell_type": "code",
   "execution_count": 11,
   "id": "7b32f3ae",
   "metadata": {},
   "outputs": [],
   "source": [
    "pv_plant.set_modules_per_string(n_series)\n",
    "pv_plant.set_strings(n_strings)\n",
    "pv_plant.set_number_of_inverters()"
   ]
  },
  {
   "cell_type": "code",
   "execution_count": 12,
   "id": "bd75d6e0",
   "metadata": {},
   "outputs": [
    {
     "data": {
      "text/plain": [
       "998.14008"
      ]
     },
     "execution_count": 12,
     "metadata": {},
     "output_type": "execute_result"
    }
   ],
   "source": [
    "pv_plant.effective_peak_power_dc"
   ]
  },
  {
   "cell_type": "code",
   "execution_count": null,
   "id": "30cb3ceb",
   "metadata": {},
   "outputs": [
    {
     "data": {
      "text/plain": [
       "848.6842105263158"
      ]
     },
     "execution_count": 14,
     "metadata": {},
     "output_type": "execute_result"
    }
   ],
   "source": [
    "pv_plant.effective_peak_power_ac"
   ]
  },
  {
   "cell_type": "code",
   "execution_count": null,
   "id": "cb7898a4",
   "metadata": {},
   "outputs": [],
   "source": [
    "pv_plant.dcac_ratio"
   ]
  },
  {
   "cell_type": "markdown",
   "id": "dce8fcc3",
   "metadata": {},
   "source": [
    "#### Step 2\n",
    "\n",
    "4. define MAX_ANGLE if it is single axis tracking\n",
    "5. define BACKTRACK if it is single axis tracking (True vs False)\n",
    "6. define GCR if it is single axis tracking (default 0.35)\n",
    "7. define temperature parameters (rules for default parameters is defined in class RackingType)\n",
    "8. define b0 parameter of the module for IAM coefficient (defulat 0.05) for the ashrae aoi model\n",
    "0. define wiring material (WiringMaterial enum)\n",
    "1. define wiring length\n",
    "2. define wiring cross section\n",
    "3. define AC_WIRING_FACTOR\n",
    "4. define AVAILABILITY\n",
    "5. define LID_FACTOR\n",
    "6. define MODULE_QUALITY_FACTOR\n",
    "7. define MISMATCH_FACTOR\n",
    "8. extract SOILING_MONTHLY (Monthly soiling transmittance)"
   ]
  },
  {
   "cell_type": "markdown",
   "id": "601675ca",
   "metadata": {},
   "source": [
    "#### Step 3\n",
    "\n",
    "2. fetch and preprocess (extract ghi, dhi, dni, airmass, precipitable_water) meteo data"
   ]
  },
  {
   "cell_type": "markdown",
   "id": "3c0c459e",
   "metadata": {},
   "source": [
    "Step 5\n",
    "\n",
    "0. define pvlib.pvsystem.Array\n",
    "1. define pvlib.pvsystem.PVSystem\n",
    "2. define pvlib.modelchain.ModelChain\n",
    "3. apply posterior loss model\n",
    "4. multiply by the number of inverters"
   ]
  },
  {
   "cell_type": "markdown",
   "id": "881f5816",
   "metadata": {},
   "source": [
    "#### Step 6\n",
    "\n",
    "0. Apply Markov Chain Montecarlo model to the 12 years of historical backcast of production\n",
    "1. Save the ProductionMatrix\n",
    "2. Simulate self consumption and grid injection"
   ]
  },
  {
   "cell_type": "markdown",
   "id": "2cd84357",
   "metadata": {},
   "source": []
  }
 ],
 "metadata": {
  "kernelspec": {
   "display_name": "venv",
   "language": "python",
   "name": "python3"
  },
  "language_info": {
   "codemirror_mode": {
    "name": "ipython",
    "version": 3
   },
   "file_extension": ".py",
   "mimetype": "text/x-python",
   "name": "python",
   "nbconvert_exporter": "python",
   "pygments_lexer": "ipython3",
   "version": "3.10.1"
  }
 },
 "nbformat": 4,
 "nbformat_minor": 5
}
