{
 "cells": [
  {
   "cell_type": "markdown",
   "id": "366ba8b1",
   "metadata": {},
   "source": [
    "#### Step 1\n",
    "\n",
    "0. defining peak power\n",
    "1. choosing the module\n",
    "2. choosing the inverter\n",
    "3. choosing the number of modules in series (n_series)\n",
    "4. choosing the number of series in parallel (n_strings)\n",
    "5. suggest an ideal number of inverters\n",
    "6. choose number of inverters"
   ]
  },
  {
   "cell_type": "markdown",
   "id": "601675ca",
   "metadata": {},
   "source": [
    "#### Step 2\n",
    "\n",
    "0. choose location\n",
    "1. define surface type\n",
    "2. fetch and preprocess (extract ghi, dhi, dni, airmass, precipitable_water) meteo data"
   ]
  },
  {
   "cell_type": "markdown",
   "id": "631279e0",
   "metadata": {},
   "source": [
    "#### Step 3\n",
    "\n",
    "0. define TRACKING_TYPE (fixed, single axis, two axes)\n",
    "1. define RACKING_MODEL\n",
    "2. define TILT (used both for fixed modules and single axis tracking)\n",
    "3. define AZIMUTH (used both for fixed modules and single axis tracking)\n",
    "4. define MAX_ANGLE if it is single axis tracking\n",
    "5. define BACKTRACK if it is single axis tracking (True vs False)\n",
    "6. define GCR if it is single axis tracking (default 0.35)\n",
    "7. define temperature parameters (rules for default parameters is defined in class RackingType)\n",
    "8. define b0 parameter of the module for IAM coefficient (defulat 0.05) for the ashrae aoi model"
   ]
  },
  {
   "cell_type": "markdown",
   "id": "dd05caa2",
   "metadata": {},
   "source": [
    "#### Step 4\n",
    "\n",
    "0. define wiring material (WiringMaterial enum)\n",
    "1. define wiring length\n",
    "2. define wiring cross section\n",
    "3. define AC_WIRING_FACTOR\n",
    "4. define AVAILABILITY\n",
    "5. define LID_FACTOR\n",
    "6. define MODULE_QUALITY_FACTOR\n",
    "7. define MISMATCH_FACTOR\n",
    "8. extract SOILING_MONTHLY (Monthly soiling transmittance)"
   ]
  },
  {
   "cell_type": "markdown",
   "id": "3c0c459e",
   "metadata": {},
   "source": [
    "Step 5\n",
    "\n",
    "0. define pvlib.pvsystem.Array\n",
    "1. define pvlib.pvsystem.PVSystem\n",
    "2. define pvlib.modelchain.ModelChain\n",
    "3. apply posterior loss model\n",
    "4. multiply by the number of inverters"
   ]
  },
  {
   "cell_type": "markdown",
   "id": "881f5816",
   "metadata": {},
   "source": [
    "#### Step 6\n",
    "\n",
    "0. Apply Markov Chain Montecarlo model to the 12 years of historical backcast of production\n",
    "1. Save the ProductionMatrix\n",
    "2. Simulate self consumption and grid injection"
   ]
  },
  {
   "cell_type": "markdown",
   "id": "2cd84357",
   "metadata": {},
   "source": []
  }
 ],
 "metadata": {
  "language_info": {
   "name": "python"
  }
 },
 "nbformat": 4,
 "nbformat_minor": 5
}
