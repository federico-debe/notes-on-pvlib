{
 "cells": [
  {
   "cell_type": "markdown",
   "id": "366ba8b1",
   "metadata": {},
   "source": [
    "#### Step 1\n",
    "\n",
    "0. defining location\n",
    "1. defining peak power\n",
    "2. choosing the module\n",
    "3. choosing the inverter\n",
    "4. choosing the number of modules in series (n_series)\n",
    "5. choosing the number of series in parallel (n_strings)\n",
    "6. suggest an ideal number of inverters\n",
    "7. choose number of inverters"
   ]
  },
  {
   "cell_type": "markdown",
   "id": "1f7ffba3",
   "metadata": {},
   "source": [
    "1) Goals & site\n",
    "\n",
    "Location: Latitude/Longitude (map pin), auto-fill altitude (pvgis).\n",
    "Target peak power (kWp) and Max area (m²) (optional).\n",
    "Tech type (dropdown): TechChoice.\n",
    "Tracking type (dropdown): TrackingType.\n",
    "Mounting place (dropdown): RackingType\n",
    "Azimuth (dial/compass) & Tilt (slider).\n",
    "Surface type (dropdown → sets albedo): SurfaceType"
   ]
  },
  {
   "cell_type": "code",
   "execution_count": 1,
   "id": "7a4b359a",
   "metadata": {},
   "outputs": [],
   "source": [
    "from pvlib.pvsystem import retrieve_sam\n",
    "\n",
    "from models.pv_custom.enums import RackingType, SurfaceType, TechChoice, TrackingType\n",
    "from models.pv_custom.pv_plant import PVPlant\n",
    "\n",
    "# input after selecting kwp, lat, lon, tech_choice\n",
    "pv_plant = PVPlant(\n",
    "    uri='',\n",
    "    pod='IT000E00092',\n",
    "    pod_uri='paidsfhgapghadg',\n",
    "    kwp=6,\n",
    "    maximum_area=0,\n",
    "    latitude=41.9028,\n",
    "    longitude=12.4964,\n",
    "    angle=21.2,\n",
    "    aspect=0,\n",
    "    tech_choice=TechChoice.Mono_c_Si,\n",
    "    tracking_type=TrackingType.fixed,\n",
    "    mounting_place=RackingType.semi_integrated,\n",
    "    surface_type=SurfaceType.concrete,\n",
    "    percentage_loss=17,\n",
    "    yearly_loss=0.5,\n",
    ")"
   ]
  },
  {
   "cell_type": "code",
   "execution_count": 2,
   "id": "569297a0",
   "metadata": {},
   "outputs": [],
   "source": [
    "from apis.pvlib_helper.geographical_helper import GeographicalHelper\n",
    "from apis.pvlib_helper.pvsystems_helper import PVSystemHelper\n",
    "\n",
    "\n",
    "cecmodules = retrieve_sam('cecmod')\n",
    "inverters = retrieve_sam('cecinverter')\n",
    "altitude = GeographicalHelper.get_elevation_opentopo(lat=pv_plant.latitude, lon=pv_plant.longitude)\n",
    "hot_temperature, cold_temperature = GeographicalHelper.get_design_temperatures(\n",
    "    lat=pv_plant.latitude, \n",
    "    lon=pv_plant.longitude, \n",
    "    altitude=altitude,\n",
    "    surface_type=pv_plant.surface_type.name if pv_plant.surface_type is not None else None,\n",
    "    racking_type=pv_plant.mounting_place.name,\n",
    "    tilt_angle=pv_plant.angle\n",
    "    )\n",
    "filtered_modules = PVSystemHelper.filter_cec_modules(pv_plant.get_tech_choice_description)\n",
    "filtered_inverters = PVSystemHelper.filter_cec_inverters_by_modules(filtered_modules, hot_temperature=hot_temperature, cold_temperature=cold_temperature)\n",
    "\n",
    "pv_plant.set_altitude(altitude)\n",
    "pv_plant.set_module_names(filtered_modules.columns)\n",
    "pv_plant.set_inverter_names(filtered_inverters.columns)\n",
    "\n"
   ]
  },
  {
   "cell_type": "code",
   "execution_count": 5,
   "id": "45240539",
   "metadata": {},
   "outputs": [
    {
     "data": {
      "text/plain": [
       "np.float64(115.2)"
      ]
     },
     "execution_count": 5,
     "metadata": {},
     "output_type": "execute_result"
    }
   ],
   "source": [
    "hot_temperature"
   ]
  },
  {
   "cell_type": "markdown",
   "id": "601675ca",
   "metadata": {},
   "source": [
    "#### Step 2\n",
    "\n",
    "0. choose location\n",
    "1. define surface type\n",
    "2. fetch and preprocess (extract ghi, dhi, dni, airmass, precipitable_water) meteo data"
   ]
  },
  {
   "cell_type": "markdown",
   "id": "631279e0",
   "metadata": {},
   "source": [
    "#### Step 3\n",
    "\n",
    "0. define TRACKING_TYPE (fixed, single axis, two axes)\n",
    "1. define RACKING_MODEL\n",
    "2. define TILT (used both for fixed modules and single axis tracking)\n",
    "3. define AZIMUTH (used both for fixed modules and single axis tracking)\n",
    "4. define MAX_ANGLE if it is single axis tracking\n",
    "5. define BACKTRACK if it is single axis tracking (True vs False)\n",
    "6. define GCR if it is single axis tracking (default 0.35)\n",
    "7. define temperature parameters (rules for default parameters is defined in class RackingType)\n",
    "8. define b0 parameter of the module for IAM coefficient (defulat 0.05) for the ashrae aoi model"
   ]
  },
  {
   "cell_type": "markdown",
   "id": "dd05caa2",
   "metadata": {},
   "source": [
    "#### Step 4\n",
    "\n",
    "0. define wiring material (WiringMaterial enum)\n",
    "1. define wiring length\n",
    "2. define wiring cross section\n",
    "3. define AC_WIRING_FACTOR\n",
    "4. define AVAILABILITY\n",
    "5. define LID_FACTOR\n",
    "6. define MODULE_QUALITY_FACTOR\n",
    "7. define MISMATCH_FACTOR\n",
    "8. extract SOILING_MONTHLY (Monthly soiling transmittance)"
   ]
  },
  {
   "cell_type": "markdown",
   "id": "3c0c459e",
   "metadata": {},
   "source": [
    "Step 5\n",
    "\n",
    "0. define pvlib.pvsystem.Array\n",
    "1. define pvlib.pvsystem.PVSystem\n",
    "2. define pvlib.modelchain.ModelChain\n",
    "3. apply posterior loss model\n",
    "4. multiply by the number of inverters"
   ]
  },
  {
   "cell_type": "markdown",
   "id": "881f5816",
   "metadata": {},
   "source": [
    "#### Step 6\n",
    "\n",
    "0. Apply Markov Chain Montecarlo model to the 12 years of historical backcast of production\n",
    "1. Save the ProductionMatrix\n",
    "2. Simulate self consumption and grid injection"
   ]
  },
  {
   "cell_type": "markdown",
   "id": "2cd84357",
   "metadata": {},
   "source": []
  }
 ],
 "metadata": {
  "kernelspec": {
   "display_name": "venv",
   "language": "python",
   "name": "python3"
  },
  "language_info": {
   "codemirror_mode": {
    "name": "ipython",
    "version": 3
   },
   "file_extension": ".py",
   "mimetype": "text/x-python",
   "name": "python",
   "nbconvert_exporter": "python",
   "pygments_lexer": "ipython3",
   "version": "3.10.1"
  }
 },
 "nbformat": 4,
 "nbformat_minor": 5
}
