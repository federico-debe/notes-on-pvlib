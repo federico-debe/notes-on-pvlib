{
 "cells": [
  {
   "cell_type": "code",
   "execution_count": 2,
   "id": "81d2e499",
   "metadata": {},
   "outputs": [],
   "source": [
    "import pvlib"
   ]
  },
  {
   "cell_type": "markdown",
   "id": "529acacf",
   "metadata": {},
   "source": [
    "# Technology Exploration\n",
    "\n",
    "Technologies in pvlib are packaged with NREL's SAM (System Advisor Model).\n",
    "In particular, the databases are\n",
    "1. CEC module database: thousands of modules with fitted parameters.\n",
    "2. CEC inverter database: thousands of inverters.\n",
    "3. Sandia module/inverter datasets: fewer, but highly detailed.\n",
    "\n",
    "#### PV modules"
   ]
  },
  {
   "cell_type": "code",
   "execution_count": 3,
   "id": "9cde24a8",
   "metadata": {},
   "outputs": [],
   "source": [
    "cecm = pvlib.pvsystem.retrieve_sam('cecmod')\n",
    "sandiam = pvlib.pvsystem.retrieve_sam('sandiamod')"
   ]
  },
  {
   "cell_type": "code",
   "execution_count": 4,
   "id": "f2df94ee",
   "metadata": {},
   "outputs": [
    {
     "name": "stdout",
     "output_type": "stream",
     "text": [
      "number of PV modules in CEC database:  21535\n",
      "number of PV modules in SANDIA database:  523\n",
      "number of features in CEC database for each PV module:  25\n",
      "number of features in SANDIA database for each PV module:  42\n"
     ]
    }
   ],
   "source": [
    "print('number of PV modules in CEC database: ', len(cecm.columns))\n",
    "print('number of PV modules in SANDIA database: ', len(sandiam.columns))\n",
    "print('number of features in CEC database for each PV module: ', len(cecm.index))\n",
    "print('number of features in SANDIA database for each PV module: ', len(sandiam.index))"
   ]
  },
  {
   "cell_type": "markdown",
   "id": "8470847d",
   "metadata": {},
   "source": [
    "#### CEC PV Modules\n",
    "\n",
    "let's investigate the metadata concerning each PV module."
   ]
  },
  {
   "cell_type": "code",
   "execution_count": 5,
   "id": "3844145b",
   "metadata": {},
   "outputs": [
    {
     "name": "stdout",
     "output_type": "stream",
     "text": [
      "The metadata concerining each PV module is described by the following names: \n",
      "#############################################################################\n",
      "metadata description:  Technology  metadata type:  <class 'str'>\n",
      "metadata description:  Bifacial  metadata type:  <class 'int'>\n",
      "metadata description:  STC  metadata type:  <class 'float'>\n",
      "metadata description:  PTC  metadata type:  <class 'float'>\n",
      "metadata description:  A_c  metadata type:  <class 'float'>\n",
      "metadata description:  Length  metadata type:  <class 'float'>\n",
      "metadata description:  Width  metadata type:  <class 'float'>\n",
      "metadata description:  N_s  metadata type:  <class 'int'>\n",
      "metadata description:  I_sc_ref  metadata type:  <class 'float'>\n",
      "metadata description:  V_oc_ref  metadata type:  <class 'float'>\n",
      "metadata description:  I_mp_ref  metadata type:  <class 'float'>\n",
      "metadata description:  V_mp_ref  metadata type:  <class 'float'>\n",
      "metadata description:  alpha_sc  metadata type:  <class 'float'>\n",
      "metadata description:  beta_oc  metadata type:  <class 'float'>\n",
      "metadata description:  T_NOCT  metadata type:  <class 'float'>\n",
      "metadata description:  a_ref  metadata type:  <class 'float'>\n",
      "metadata description:  I_L_ref  metadata type:  <class 'float'>\n",
      "metadata description:  I_o_ref  metadata type:  <class 'float'>\n",
      "metadata description:  R_s  metadata type:  <class 'float'>\n",
      "metadata description:  R_sh_ref  metadata type:  <class 'float'>\n",
      "metadata description:  Adjust  metadata type:  <class 'float'>\n",
      "metadata description:  gamma_r  metadata type:  <class 'float'>\n",
      "metadata description:  BIPV  metadata type:  <class 'str'>\n",
      "metadata description:  Version  metadata type:  <class 'str'>\n",
      "metadata description:  Date  metadata type:  <class 'str'>\n",
      "#############################################################################\n"
     ]
    }
   ],
   "source": [
    "print('The metadata concerining each PV module is described by the following names: ')\n",
    "print('#############################################################################')\n",
    "for metadata_name in cecm.index:\n",
    "    print('metadata description: ', metadata_name, ' metadata type: ', type(cecm.loc[metadata_name].values[0]))\n",
    "print('#############################################################################')"
   ]
  },
  {
   "cell_type": "code",
   "execution_count": 6,
   "id": "a2348a96",
   "metadata": {},
   "outputs": [
    {
     "name": "stdout",
     "output_type": "stream",
     "text": [
      "possible technologies for the PV modules: \n"
     ]
    },
    {
     "data": {
      "text/plain": [
       "{'CIGS', 'CdTe', 'Mono-c-Si', 'Multi-c-Si', 'Thin Film'}"
      ]
     },
     "execution_count": 6,
     "metadata": {},
     "output_type": "execute_result"
    }
   ],
   "source": [
    "print('possible technologies for the PV modules: ')\n",
    "set(cecm.loc['Technology'].values)"
   ]
  },
  {
   "cell_type": "code",
   "execution_count": 7,
   "id": "79596a9f",
   "metadata": {},
   "outputs": [
    {
     "name": "stdout",
     "output_type": "stream",
     "text": [
      "-- Bifacial indicates whether the PV module is bifacial (1) or not (0)\n",
      "-- STC stands for Standard Test Conditions power, corresponding to 1000 W/m² irradiance, 25 °C cell temp, AM1.5 spectrum\n",
      "-- PTC stands for PVUSA Test Conditions power, corresponding to 1000 W/m² irradiance, 20 °C ambient, 1 m/s wind, 1.5 air mass\n",
      "-- A_c represents the aperture area of the PV module (m^2), the Length is its length (m), the Width is its width (m)\n",
      "-- N_s is the number of cells connected in series in the PV module\n",
      "-- I_sc_ref (reference circuit voltage) is the currect (A) when voltage is 0 at STC\n",
      "-- V_oc_ref (reference circuit voltage) is the voltage (V) at zero current at STC\n",
      "-- I_mp_ref is the current at maximum power point at STC (A)\n",
      "-- V_mp_ref is the Voltage at maximum power point at STC (V)\n",
      "-- alpha_sc is the Temperature coefficient of short-circuit current (A/°C), and captures how current rises with temperature\n",
      "-- beta_oc is the Temperature coefficient of open-circuit voltage (V/°C), and captures how voltage drops as temperature rises\n",
      "-- T_NOCT is the nominal operating cell temperature, Temperature the cells reach under “NOCT conditions”: 800 W/m² irradiance, 20 °C ambient, 1 m/s wind, open rack\n",
      "-- a_ref is the Modified diode ideality factor × number of cells × thermal voltage (at STC), and it Governs the exponential diode behavior (slope of I–V curve)\n",
      "-- I_L_ref is the Light-generated current at reference conditions (A)\n",
      "-- I_o_ref is the Diode saturation current at reference conditions (A)\n",
      "-- R_s is the series resistance (Ω)\n",
      "-- R_sh_ref is the Shunt resistance at STC (Ω), Low values lead to high leakage and poor low-voltage performance.\n",
      "-- Adjust is the Empirical adjustment factor used in parameter fitting. It helps match the modeled I–V curve to measured points.\n",
      "-- gamma_r is the Temperature coefficient of Pmp (maximum power) (%/°C), and Tells how efficiency degrades with temperature\n",
      "-- BIPV indicates whether the PV module is building-integrated (1) or not (0)\n",
      "-- Version is the version of the CEC database\n",
      "-- Date is the last update of the PV module\n"
     ]
    }
   ],
   "source": [
    "print('-- Bifacial indicates whether the PV module is bifacial (1) or not (0)')\n",
    "print('-- STC stands for Standard Test Conditions power, corresponding to 1000 W/m² irradiance, 25 °C cell temp, AM1.5 spectrum')\n",
    "print('-- PTC stands for PVUSA Test Conditions power, corresponding to 1000 W/m² irradiance, 20 °C ambient, 1 m/s wind, 1.5 air mass')\n",
    "print('-- A_c represents the aperture area of the PV module (m^2), the Length is its length (m), the Width is its width (m)')\n",
    "print('-- N_s is the number of cells connected in series in the PV module')\n",
    "print('-- I_sc_ref (reference circuit voltage) is the currect (A) when voltage is 0 at STC')\n",
    "print('-- V_oc_ref (reference circuit voltage) is the voltage (V) at zero current at STC')\n",
    "print('-- I_mp_ref is the current at maximum power point at STC (A)')\n",
    "print('-- V_mp_ref is the Voltage at maximum power point at STC (V)')\n",
    "print('-- alpha_sc is the Temperature coefficient of short-circuit current (A/°C), and captures how current rises with temperature')\n",
    "print('-- beta_oc is the Temperature coefficient of open-circuit voltage (V/°C), and captures how voltage drops as temperature rises')\n",
    "print('-- T_NOCT is the nominal operating cell temperature, Temperature the cells reach under “NOCT conditions”: 800 W/m² irradiance, 20 °C ambient, 1 m/s wind, open rack')\n",
    "print('-- a_ref is the Modified diode ideality factor × number of cells × thermal voltage (at STC), and it Governs the exponential diode behavior (slope of I–V curve)')\n",
    "print('-- I_L_ref is the Light-generated current at reference conditions (A)')\n",
    "print('-- I_o_ref is the Diode saturation current at reference conditions (A)')\n",
    "print('-- R_s is the series resistance (Ω)')\n",
    "print('-- R_sh_ref is the Shunt resistance at STC (Ω), Low values lead to high leakage and poor low-voltage performance.')\n",
    "print('-- Adjust is the Empirical adjustment factor used in parameter fitting. It helps match the modeled I–V curve to measured points.')\n",
    "print('-- gamma_r is the Temperature coefficient of Pmp (maximum power) (%/°C), and Tells how efficiency degrades with temperature')\n",
    "print('-- BIPV indicates whether the PV module is building-integrated (1) or not (0)')\n",
    "print('-- Version is the version of the CEC database')\n",
    "print('-- Date is the last update of the PV module')"
   ]
  },
  {
   "cell_type": "markdown",
   "id": "7b74baff",
   "metadata": {},
   "source": [
    "#### The use for such metadata\n",
    "\n",
    "The parameters inside the CEC database are needed to use the Single-Diode model. Such model enables the calculation of the I-V curve, and finally of the power vs. the voltage.\n",
    "The inverter will try to operate to keep the values of voltage and current *at the knee* of the I-V curve, to maximize power."
   ]
  },
  {
   "cell_type": "code",
   "execution_count": null,
   "id": "e9b10975",
   "metadata": {},
   "outputs": [
    {
     "name": "stdout",
     "output_type": "stream",
     "text": [
      "Using: A10Green_Technology_A10J_S72_175\n",
      "{'i_sc': 5.170000231299618, 'v_oc': 43.99000612100144, 'i_mp': 4.78000035907775, 'v_mp': 36.63000478464775, 'p_mp': 175.09143602363596}\n"
     ]
    },
    {
     "data": {
      "image/png": "[encoded data removed]",
      "text/plain": [
       "<Figure size 640x480 with 1 Axes>"
      ]
     },
     "metadata": {},
     "output_type": "display_data"
    },
    {
     "data": {
      "image/png": "[encoded data removed]",
      "text/plain": [
       "<Figure size 640x480 with 1 Axes>"
      ]
     },
     "metadata": {},
     "output_type": "display_data"
    }
   ],
   "source": [
    "import pvlib\n",
    "import numpy as np\n",
    "import matplotlib.pyplot as plt\n",
    "\n",
    "# 1) Load CEC database and pick a module\n",
    "module_name = cecm.columns[0]      # or filter by substring\n",
    "mod = cecm[module_name]\n",
    "print(\"Using:\", module_name)\n",
    "\n",
    "# 2) Operating conditions\n",
    "Geff = 1000.0    # effective POA irradiance [W/m^2]\n",
    "Tcell = 25.0     # cell temperature [°C]\n",
    "\n",
    "# 3) De Soto parameter scaling -> SDM parameters at (Geff, Tcell)\n",
    "IL, I0, Rs, Rsh, nNsVth = pvlib.pvsystem.calcparams_desoto(\n",
    "    effective_irradiance=Geff,\n",
    "    temp_cell=Tcell,\n",
    "    alpha_sc=mod['alpha_sc'],\n",
    "    a_ref=mod['a_ref'],\n",
    "    I_L_ref=mod['I_L_ref'],\n",
    "    I_o_ref=mod['I_o_ref'],\n",
    "    R_sh_ref=mod['R_sh_ref'],\n",
    "    R_s=mod['R_s'],\n",
    "    # EgRef, dEgdT have sensible defaults; include if you want explicit values\n",
    ")\n",
    "\n",
    "# 4) Key points (Isc, Voc, Imp, Vmp, Pmp)\n",
    "sd = pvlib.pvsystem.singlediode(\n",
    "    photocurrent=IL, saturation_current=I0,\n",
    "    resistance_series=Rs, resistance_shunt=Rsh, nNsVth=nNsVth,\n",
    "    method='lambertw'    # or 'newton' if you prefer\n",
    ")\n",
    "print({k: float(sd[k]) for k in ['i_sc','v_oc','i_mp','v_mp','p_mp']})\n",
    "\n",
    "# 5) Sample the I–V curve using i_from_v on a voltage grid up to Voc\n",
    "V = np.linspace(0.0, float(sd['v_oc']), 200)\n",
    "I = pvlib.pvsystem.i_from_v(\n",
    "    voltage=V, photocurrent=IL, saturation_current=I0,\n",
    "    resistance_series=Rs, resistance_shunt=Rsh, nNsVth=nNsVth,\n",
    "    method='lambertw'\n",
    ")\n",
    "P = V * I\n",
    "\n",
    "# 6) Plot\n",
    "plt.figure()\n",
    "plt.plot(V, I, lw=2)\n",
    "plt.scatter([0, sd['v_oc'], sd['v_mp']], [sd['i_sc'], 0, sd['i_mp']])\n",
    "plt.xlabel(\"Voltage [V]\"); plt.ylabel(\"Current [A]\")\n",
    "plt.title(\"I–V curve (CEC + De Soto)\"); plt.grid(True)\n",
    "\n",
    "plt.figure()\n",
    "plt.plot(V, P, lw=2)\n",
    "plt.scatter([sd['v_mp']], [sd['p_mp']])\n",
    "plt.xlabel(\"Voltage [V]\"); plt.ylabel(\"Power [W]\")\n",
    "plt.title(\"P–V curve (CEC + De Soto)\"); plt.grid(True)\n",
    "plt.show()"
   ]
  },
  {
   "cell_type": "markdown",
   "id": "d67d4037",
   "metadata": {},
   "source": [
    "### Temperature Model\n",
    "\n",
    "PV modules heat up above ambient temperature depending on:\n",
    "\n",
    "1. Mounting configuration (open-rack vs rooftop),\n",
    "2. Backsheet/glass type,\n",
    "3. Wind speed,\n",
    "4. Irradiance.\n",
    "\n",
    "Cell temperature is important because module efficiency drops as temperature rises.\n",
    "pvlib provides a few common temperature models. One of them is the Sandia Array Performance Model (SAPM) temperature model, which needs three coefficients:\n",
    "\n",
    "1. a (slope vs ambient temperature),\n",
    "2. b (slope vs wind speed),\n",
    "3. ΔT (temperature rise at NOCT conditions).\n",
    "\n",
    "#### Important Note:\n",
    "The SAPM temperature parameters (calculated experimentally -- Sandia labs) are only needed when you don’t know Tcell and want pvlib to compute it from weather + mounting (irradiance, ambient temp, wind, rack type)."
   ]
  },
  {
   "cell_type": "code",
   "execution_count": 11,
   "id": "4eb69f3a",
   "metadata": {},
   "outputs": [
    {
     "data": {
      "text/plain": [
       "{'open_rack_glass_glass': {'a': -3.47, 'b': -0.0594, 'deltaT': 3},\n",
       " 'close_mount_glass_glass': {'a': -2.98, 'b': -0.0471, 'deltaT': 1},\n",
       " 'open_rack_glass_polymer': {'a': -3.56, 'b': -0.075, 'deltaT': 3},\n",
       " 'insulated_back_glass_polymer': {'a': -2.81, 'b': -0.0455, 'deltaT': 0}}"
      ]
     },
     "execution_count": 11,
     "metadata": {},
     "output_type": "execute_result"
    }
   ],
   "source": [
    "pvlib.temperature.TEMPERATURE_MODEL_PARAMETERS['sapm']"
   ]
  },
  {
   "cell_type": "markdown",
   "id": "0dfa80a3",
   "metadata": {},
   "source": [
    "PVSyst uses yet another empirical model, replicable with pvlib."
   ]
  },
  {
   "cell_type": "code",
   "execution_count": 16,
   "id": "c0b95a19",
   "metadata": {},
   "outputs": [
    {
     "data": {
      "text/plain": [
       "<function pvlib.temperature.pvsyst_cell(poa_global, temp_air, wind_speed=1.0, u_c=29.0, u_v=0.0, module_efficiency=0.1, alpha_absorption=0.9)>"
      ]
     },
     "execution_count": 16,
     "metadata": {},
     "output_type": "execute_result"
    }
   ],
   "source": [
    "pvlib.temperature.pvsyst_cell"
   ]
  },
  {
   "cell_type": "markdown",
   "id": "2d1d1ab4",
   "metadata": {},
   "source": [
    "Tcell = pvlib.temperature.pvsyst_cell(\n",
    "    \n",
    "    poa_global,             # W/m² plane-of-array irradiance\n",
    "\n",
    "    temp_air,               # °C ambient\n",
    "\n",
    "    wind_speed=,            # m/s wind speed\n",
    "\n",
    "    u_c=29.0,               # default free-standing/open-rack\n",
    "\n",
    "    u_v=0.0,                # wind dependence coeff\n",
    "\n",
    "    eta_m,                 # module efficiency (fraction)\n",
    "\n",
    "    alpha_absorption=0.9    # absorptance\n",
    ")\n",
    "\n",
    "eta_m=V_mp_ref * I_mp_ref / (1000⋅A_c)"
   ]
  },
  {
   "cell_type": "code",
   "execution_count": 27,
   "id": "a59fea77",
   "metadata": {},
   "outputs": [],
   "source": [
    "ceci = pvlib.pvsystem.retrieve_sam('cecinverter')\n",
    "sandiai = pvlib.pvsystem.retrieve_sam('sandiainverter')"
   ]
  },
  {
   "cell_type": "code",
   "execution_count": null,
   "id": "d8d4d3b9",
   "metadata": {},
   "outputs": [],
   "source": []
  },
  {
   "cell_type": "markdown",
   "id": "68dc3516",
   "metadata": {},
   "source": [
    "Valid surface_type values (pvlib presets) instead of presetting an albedo coefficient\n",
    "\n",
    "urban (0.18)\n",
    "grass (0.20)\n",
    "fresh grass (0.26)\n",
    "soil (0.17)\n",
    "sand (0.40)\n",
    "snow (0.65)\n",
    "fresh snow (0.75)\n",
    "asphalt (0.12)\n",
    "concrete (0.30)\n",
    "aluminum (0.85)\n",
    "copper (0.74)\n",
    "fresh steel (0.35)\n",
    "dirty steel (0.08)\n",
    "sea (0.06)"
   ]
  },
  {
   "cell_type": "code",
   "execution_count": null,
   "id": "f8677d8d",
   "metadata": {},
   "outputs": [],
   "source": []
  }
 ],
 "metadata": {
  "kernelspec": {
   "display_name": "venv",
   "language": "python",
   "name": "python3"
  },
  "language_info": {
   "codemirror_mode": {
    "name": "ipython",
    "version": 3
   },
   "file_extension": ".py",
   "mimetype": "text/x-python",
   "name": "python",
   "nbconvert_exporter": "python",
   "pygments_lexer": "ipython3",
   "version": "3.10.1"
  }
 },
 "nbformat": 4,
 "nbformat_minor": 5
}
