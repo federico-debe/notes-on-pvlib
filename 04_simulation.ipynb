{
 "cells": [
  {
   "cell_type": "markdown",
   "id": "e5255391",
   "metadata": {},
   "source": [
    "#### Step 3\n",
    "\n",
    "2. fetch and preprocess (extract ghi, dhi, dni, airmass, precipitable_water) meteo data"
   ]
  },
  {
   "cell_type": "markdown",
   "id": "09ac78fe",
   "metadata": {},
   "source": [
    "Step 5\n",
    "\n",
    "0. define pvlib.pvsystem.Array\n",
    "1. define pvlib.pvsystem.PVSystem\n",
    "2. define pvlib.modelchain.ModelChain\n",
    "3. apply posterior loss model\n",
    "4. multiply by the number of inverters"
   ]
  },
  {
   "cell_type": "markdown",
   "id": "2b54c1f0",
   "metadata": {},
   "source": [
    "#### Step 6\n",
    "\n",
    "0. Apply Markov Chain Montecarlo model to the 12 years of historical backcast of production\n",
    "1. Save the ProductionMatrix\n",
    "2. Simulate self consumption and grid injection\n"
   ]
  },
  {
   "cell_type": "markdown",
   "id": "6f8306eb",
   "metadata": {},
   "source": []
  }
 ],
 "metadata": {
  "language_info": {
   "name": "python"
  }
 },
 "nbformat": 4,
 "nbformat_minor": 5
}
