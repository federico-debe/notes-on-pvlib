{
 "cells": [
  {
   "cell_type": "markdown",
   "id": "507c5514",
   "metadata": {},
   "source": [
    "# System Design\n",
    "\n",
    "In this notebook we note the operations performed by PVSyst in order to design the system."
   ]
  },
  {
   "cell_type": "markdown",
   "id": "307a4a1e",
   "metadata": {},
   "source": [
    "It is necessary to indicate the kWp of the system at DC. The number of modules necessary is automatically calculated by PVSyst, given the characteristics of the PV modules selected."
   ]
  },
  {
   "cell_type": "markdown",
   "id": "9ac1a38f",
   "metadata": {},
   "source": [
    "The number of parallel modules is again calculated automatically."
   ]
  },
  {
   "cell_type": "markdown",
   "id": "e6999e76",
   "metadata": {},
   "source": [
    "The number of inverters needed is calculated by PVSyst, once again, automatically. The number of inverters is first calculated as\n",
    "\n",
    "*n_inverters = dc_kwp / ac_inverter_nominal_power*\n",
    "\n",
    "rounded up.\n",
    "\n",
    "100kW\n",
    "30kW"
   ]
  },
  {
   "cell_type": "markdown",
   "id": "5c3db778",
   "metadata": {},
   "source": [
    "More details are taken into consideration, then. For each inverter, it calculates the maximum number of modules that can be connected in parallel to the inverter (number of strings). To do so, it takes into consideration the electrical limits of the inverter(s):\n",
    "\n",
    "1. maximum input voltage\n",
    "2. maximum input current\n",
    "3. maximum and minimum voltage\n",
    "\n",
    "An economic analysis is performed, minimizing LCOE, to understand whether it is better to undersize inverters, oversize them or keeping the initial number of inverters estimate."
   ]
  },
  {
   "cell_type": "markdown",
   "id": "784c8fbd",
   "metadata": {},
   "source": [
    "Another useful KPI is the oversizing ratio:\n",
    "\n",
    "*oversizing_ratio = dc_kwp / sum(ac_inverter_nominal_power)*\n",
    "\n",
    "This parameter is often between 0.9 and 1.3. Having a ratio above 1 means enabling clipping. Such choice, though, is often accepted due to inverter's high costs."
   ]
  },
  {
   "cell_type": "markdown",
   "id": "1a8cf97e",
   "metadata": {},
   "source": []
  }
 ],
 "metadata": {
  "language_info": {
   "name": "python"
  }
 },
 "nbformat": 4,
 "nbformat_minor": 5
}
