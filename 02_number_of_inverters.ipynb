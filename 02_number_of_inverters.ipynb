{
 "cells": [
  {
   "cell_type": "markdown",
   "id": "507c5514",
   "metadata": {},
   "source": [
    "# System Design\n",
    "\n",
    "In this notebook we note the operations performed by PVSyst in order to design the system."
   ]
  },
  {
   "cell_type": "markdown",
   "id": "307a4a1e",
   "metadata": {},
   "source": [
    "It is necessary to indicate the kWp of the system at DC. The number of modules necessary is automatically calculated by PVSyst, given the characteristics of the PV modules selected."
   ]
  },
  {
   "cell_type": "markdown",
   "id": "9ac1a38f",
   "metadata": {},
   "source": [
    "The number of parallel modules is again calculated automatically."
   ]
  },
  {
   "cell_type": "markdown",
   "id": "e6999e76",
   "metadata": {},
   "source": [
    "The number of inverters needed is calculated by PVSyst, once again, automatically. The number of inverters is first calculated as\n",
    "\n",
    "*n_inverters = dc_kwp / ac_inverter_nominal_power*\n",
    "\n",
    "rounded up.\n",
    "\n",
    "100kW\n",
    "30kW"
   ]
  },
  {
   "cell_type": "markdown",
   "id": "5c3db778",
   "metadata": {},
   "source": [
    "More details are taken into consideration, then. For each inverter, it calculates the maximum number of modules that can be connected in parallel to the inverter (number of strings). To do so, it takes into consideration the electrical limits of the inverter(s):\n",
    "\n",
    "1. maximum input voltage\n",
    "2. maximum input current\n",
    "3. maximum and minimum voltage\n",
    "\n",
    "An economic analysis is performed, minimizing LCOE, to understand whether it is better to undersize inverters, oversize them or keeping the initial number of inverters estimate."
   ]
  },
  {
   "cell_type": "markdown",
   "id": "784c8fbd",
   "metadata": {},
   "source": [
    "Another useful KPI is the oversizing ratio:\n",
    "\n",
    "*oversizing_ratio = dc_kwp / sum(ac_inverter_nominal_power)*\n",
    "\n",
    "This parameter is often between 0.9 and 1.3. Having a ratio above 1 means enabling clipping. Such choice, though, is often accepted due to inverter's high costs."
   ]
  },
  {
   "cell_type": "code",
   "execution_count": 20,
   "id": "a12fe6b7",
   "metadata": {},
   "outputs": [],
   "source": [
    "# Find one compatible module/inverter pair from your loaded CEC tables\n",
    "# (uses the same calc you already have under the hood)\n",
    "import numpy as np\n",
    "import pvlib\n",
    "\n",
    "def module_iv_at(mp, Tcell, poa=1000):\n",
    "    calc = pvlib.pvsystem.calcparams_cec(\n",
    "        effective_irradiance=poa, temp_cell=Tcell,\n",
    "        alpha_sc=float(mp['alpha_sc']), a_ref=float(mp['a_ref']),\n",
    "        I_L_ref=float(mp['I_L_ref']), I_o_ref=float(mp['I_o_ref']),\n",
    "        R_sh_ref=float(mp['R_sh_ref']), R_s=float(mp['R_s']),\n",
    "        Adjust=float(mp.get('Adjust', 1.0)),\n",
    "        EgRef=float(mp.get('EgRef', 1.121)), dEgdT=float(mp.get('dEgdT', -0.0002677)),\n",
    "    )\n",
    "    sd = pvlib.pvsystem.singlediode(*calc, method='lambertw')\n",
    "    return float(sd['v_mp']), float(sd['v_oc'])\n",
    "\n",
    "def find_first_ok_pair(cecm, ceci, Tcell_hot=65.0, Tcell_cold=0.0, voc_margin=0.97):\n",
    "    for mname, mp in cecm.items():\n",
    "        # skip incomplete rows\n",
    "        need = ['alpha_sc','a_ref','I_L_ref','I_o_ref','R_sh_ref','R_s','V_mp_ref','I_mp_ref']\n",
    "        if any(k not in mp for k in need): \n",
    "            continue\n",
    "        try:\n",
    "            Vmp_hot,  Voc_hot_dummy  = module_iv_at(mp, Tcell_hot)\n",
    "            Vmp_cold, Voc_cold       = module_iv_at(mp, Tcell_cold)\n",
    "        except Exception:\n",
    "            continue\n",
    "        for iname, inv in ceci.items():\n",
    "            try:\n",
    "                mppt_low  = float(inv['Mppt_low'])\n",
    "                mppt_high = float(inv['Mppt_high'])\n",
    "                vdcmax    = float(inv['Vdcmax'])\n",
    "            except Exception:\n",
    "                continue\n",
    "            n_min = int(np.ceil (mppt_low  / max(Vmp_hot,  1e-6)))\n",
    "            n_max_mppt = int(np.floor(mppt_high / max(Vmp_cold, 1e-6)))\n",
    "            n_max_voc  = int(np.floor(voc_margin * vdcmax / max(Voc_cold, 1e-6)))\n",
    "            n_max = min(n_max_mppt, n_max_voc)\n",
    "            if n_min <= n_max and n_max >= 1:\n",
    "                return (mname, iname, n_min, n_max)\n",
    "    return None\n"
   ]
  },
  {
   "cell_type": "code",
   "execution_count": 27,
   "id": "313c3b35",
   "metadata": {},
   "outputs": [],
   "source": [
    "import math, numpy as np, pvlib\n",
    "\n",
    "def _need(mp, keys):\n",
    "    missing = [k for k in keys if k not in mp or mp[k] is None or (hasattr(mp[k], 'isna') and mp[k].isna())]\n",
    "    return missing\n",
    "\n",
    "def module_iv_at_complete(module_params, temp_cell_C=25.0, poa=1000.0):\n",
    "    \"\"\"Return (Vmp, Imp, Pmp, Voc, Isc) at given cell temp using the CEC model.\n",
    "       Robust to a few missing optional CEC fields.\"\"\"\n",
    "    # Required CEC keys (except we’ll default EgRef/dEgdT/Adjust)\n",
    "    required = ['alpha_sc','a_ref','I_L_ref','I_o_ref','R_sh_ref','R_s']\n",
    "    miss = _need(module_params, required)\n",
    "    if miss:\n",
    "        raise ValueError(f\"CEC module parameters missing required keys: {miss}\")\n",
    "\n",
    "    # EgRef  = float(module_params.get('EgRef', 1.121))      # eV, crystalline Si typical\n",
    "    # dEgdT  = float(module_params.get('dEgdT', -0.0002677)) # eV/K, crystalline Si typical\n",
    "    # Adjust = float(module_params.get('Adjust', 1.0))\n",
    "\n",
    "    calc = pvlib.pvsystem.calcparams_desoto(\n",
    "        effective_irradiance=float(poa),\n",
    "        temp_cell=float(temp_cell_C),\n",
    "        alpha_sc=float(module_params['alpha_sc']),\n",
    "        a_ref=float(module_params['a_ref']),\n",
    "        I_L_ref=float(module_params['I_L_ref']),\n",
    "        I_o_ref=float(module_params['I_o_ref']),\n",
    "        R_sh_ref=float(module_params['R_sh_ref']),\n",
    "        R_s=float(module_params['R_s']),\n",
    "        # Adjust=Adjust, EgRef=EgRef, dEgdT=dEgdT\n",
    "    )\n",
    "    out = pvlib.pvsystem.singlediode(*calc, method='lambertw')\n",
    "    return float(out['v_mp']), float(out['i_mp']), float(out['p_mp']), float(out['v_oc']), float(out['i_sc'])\n",
    "\n",
    "def pick_stringing(\n",
    "        module, \n",
    "        inverter, \n",
    "        *,\n",
    "        t_cell_cold=-5.0, t_cell_hot=65.0, poa_w_per_m2=1000.0,\n",
    "        mppt_low_key='Mppt_low', mppt_high_key='Mppt_high',\n",
    "        vdcmax_key='Vdcmax', idcmax_key='Idcmax',\n",
    "        dc_ac_ratio=1.20, voc_margin=0.97, prefer_mid_window=True):\n",
    "    \"\"\"Returns (modules_per_string, strings, details) with robust defaults.\"\"\"\n",
    "    # Inverter essentials\n",
    "    need_inv = ['Paco', mppt_low_key, mppt_high_key, vdcmax_key]\n",
    "    miss_inv = _need(inverter, need_inv)\n",
    "    if miss_inv:\n",
    "        raise ValueError(f\"Inverter parameters missing keys: {miss_inv}\")\n",
    "\n",
    "    mppt_low  = float(inverter[mppt_low_key])\n",
    "    mppt_high = float(inverter[mppt_high_key])\n",
    "    vdcmax    = float(inverter[vdcmax_key])\n",
    "    idcmax    = float(inverter.get(idcmax_key, np.inf))\n",
    "    paco      = float(inverter['Paco'])\n",
    "\n",
    "    # Module IV at extremes\n",
    "    Vmp_cold, Imp_cold, Pmp_cold, Voc_cold, Isc_cold = module_iv_at_complete(module, t_cell_cold, poa_w_per_m2)\n",
    "    Vmp_hot,  Imp_hot,  Pmp_hot,  Voc_hot,  Isc_hot  = module_iv_at_complete(module, t_cell_hot,  poa_w_per_m2)\n",
    "\n",
    "    # Series constraints\n",
    "    n_series_max_by_mppt = int(np.floor(mppt_high / max(Vmp_cold, 1e-6)))\n",
    "    n_series_min_by_mppt = int(np.ceil (mppt_low  / max(Vmp_hot,  1e-6)))\n",
    "    n_series_max_by_voc  = int(np.floor(voc_margin * vdcmax / max(Voc_cold, 1e-6)))\n",
    "\n",
    "    n_series_min = max(1, n_series_min_by_mppt)\n",
    "    n_series_max = min(n_series_max_by_mppt, n_series_max_by_voc)\n",
    "\n",
    "    if n_series_min > n_series_max:\n",
    "        raise ValueError(\n",
    "            f\"No valid series count. Computed n_series_min={n_series_min} (MPPT low @ hot) \"\n",
    "            f\"> n_series_max={n_series_max} (MPPT high/Vdcmax @ cold).\"\n",
    "        )\n",
    "\n",
    "    # Pick a series count (try to sit near MPPT mid-window at 25°C)\n",
    "    if prefer_mid_window:\n",
    "        Vmp_nom, *_ = module_iv_at(module, 25.0, poa_w_per_m2)\n",
    "        target = 0.5*(mppt_low + mppt_high)\n",
    "        candidates = range(n_series_min, n_series_max+1)\n",
    "        # filter any that violate extremes\n",
    "        candidates = [n for n in candidates if (n*Vmp_cold <= mppt_high) and (n*Vmp_hot >= mppt_low)]\n",
    "        if not candidates:\n",
    "            candidates = [n_series_min]\n",
    "        n_series = min(candidates, key=lambda n: abs(n*Vmp_nom - target))\n",
    "    else:\n",
    "        n_series = n_series_min\n",
    "\n",
    "    # Parallel strings from DC/AC ratio\n",
    "    Pmp_stc_module = float(module['V_mp_ref']) * float(module['I_mp_ref'])\n",
    "    Pmp_string_stc = n_series * Pmp_stc_module\n",
    "    dc_target = dc_ac_ratio * paco\n",
    "    n_strings = max(1, int(round(dc_target / max(Pmp_string_stc, 1e-9))))\n",
    "\n",
    "    # Enforce inverter input current at hot\n",
    "    total_imp_hot = n_strings * Imp_hot\n",
    "    if total_imp_hot > idcmax:\n",
    "        n_strings = max(1, int(np.floor(idcmax / max(Imp_hot, 1e-9))))\n",
    "        total_imp_hot = n_strings * Imp_hot\n",
    "\n",
    "    details = dict(\n",
    "        mppt_low=mppt_low, mppt_high=mppt_high, vdcmax=vdcmax, idcmax=idcmax, paco=paco,\n",
    "        Vmp_cold=Vmp_cold, Vmp_hot=Vmp_hot, Voc_cold=Voc_cold,\n",
    "        n_series_min_by_mppt=n_series_min_by_mppt,\n",
    "        n_series_max_by_mppt=n_series_max_by_mppt,\n",
    "        n_series_max_by_voc=n_series_max_by_voc,\n",
    "        chosen_series=n_series,\n",
    "        Pmp_module_stc=Pmp_stc_module,\n",
    "        Pmp_string_stc=Pmp_string_stc,\n",
    "        dc_target_W=dc_target,\n",
    "        chosen_strings=n_strings,\n",
    "        total_imp_hot=total_imp_hot\n",
    "    )\n",
    "    return n_series, n_strings, details\n"
   ]
  },
  {
   "cell_type": "code",
   "execution_count": 28,
   "id": "34e41b48",
   "metadata": {},
   "outputs": [],
   "source": [
    "LAT, LON = 41.9028, 12.4964\n",
    "ALTITUDE_METERS = 65\n",
    "TRACKING_TYPE = \"fixed\"  # \"fixed\" | \"single_axis\" | \"two_axis\"\n",
    "RACKING_MODEL = \"open_rack\"  # \"open_rack\" or \"close_mount\" (used for temp/IAM conventions)\n",
    "FIXED_TILT = 0\n",
    "FIXED_AZIMUTH = 0\n",
    "AXIS_TILT = 0.0\n",
    "AXIS_AZIMUTH = 180.0       # N-S axis: 0 or 180 (pvlib uses degrees from North, CW)\n",
    "MAX_ANGLE = 60.0\n",
    "BACKTRACK = False\n",
    "GCR = 0.35\n",
    "K = 0.05\n",
    "U_C, U_V = (29.0, 0.0) if RACKING_MODEL == \"open_rack\" else (20.0, 6.0)\n",
    "\n",
    "cecm = pvlib.pvsystem.retrieve_sam('cecmod')\n",
    "ceci = pvlib.pvsystem.retrieve_sam('cecinverter')\n",
    "ok = find_first_ok_pair(cecm, ceci, Tcell_hot=65.0, Tcell_cold=0.0, voc_margin=0.97)\n",
    "module = cecm[ok[0]]\n",
    "module['K'] = module.get('K', K)\n",
    "inverter = ceci[ok[1]]\n",
    "eta_m = float(module['I_mp_ref']*module['V_mp_ref']) / (1000.0 * float(module['A_c']))\n",
    "\n",
    "temperature_model_parameters = dict(u_c=U_C, u_v=U_V, eta_m=eta_m, alpha_absorption=0.9)\n",
    "loc = pvlib.location.Location(LAT, LON, tz=\"Europe/Rome\", altitude=ALTITUDE_METERS)"
   ]
  },
  {
   "cell_type": "code",
   "execution_count": null,
   "id": "ad190ba5",
   "metadata": {},
   "outputs": [
    {
     "name": "stdout",
     "output_type": "stream",
     "text": [
      "Picked: 8 modules per string, 6 strings\n",
      "Sanity: {'mppt_low': 220.0, 'mppt_high': 416.0, 'vdcmax': 416.0, 'idcmax': 32.775958, 'paco': 10000.0, 'Vmp_cold': 42.288683130550226, 'Vmp_hot': 29.201257141130796, 'Voc_cold': 49.49528305748731, 'n_series_min_by_mppt': 8, 'n_series_max_by_mppt': 9, 'n_series_max_by_voc': 8, 'chosen_series': 8, 'Pmp_module_stc': 175.09140000000002, 'Pmp_string_stc': 1400.7312000000002, 'dc_target_W': 12000.0, 'chosen_strings': 6, 'total_imp_hot': 28.648900769253814}\n"
     ]
    }
   ],
   "source": [
    "# Decide stringing for your selected CEC module & inverter\n",
    "n_series, n_strings, sizing = pick_stringing(module, inverter, dc_ac_ratio=1.20)\n",
    "\n",
    "print(\"Picked:\", n_series, \"modules per string,\", n_strings, \"strings\")\n",
    "print(\"Sanity:\", sizing)"
   ]
  },
  {
   "cell_type": "code",
   "execution_count": 30,
   "id": "e9740328",
   "metadata": {},
   "outputs": [
    {
     "data": {
      "text/plain": [
       "('A10Green_Technology_A10J_S72_175',\n",
       " 'ABB__PVI_10_0_I_OUTD_x_US_208_y__208V_',\n",
       " 8,\n",
       " 8)"
      ]
     },
     "execution_count": 30,
     "metadata": {},
     "output_type": "execute_result"
    }
   ],
   "source": [
    "ok"
   ]
  },
  {
   "cell_type": "code",
   "execution_count": null,
   "id": "88fb8c39",
   "metadata": {},
   "outputs": [],
   "source": []
  }
 ],
 "metadata": {
  "kernelspec": {
   "display_name": "venv",
   "language": "python",
   "name": "python3"
  },
  "language_info": {
   "codemirror_mode": {
    "name": "ipython",
    "version": 3
   },
   "file_extension": ".py",
   "mimetype": "text/x-python",
   "name": "python",
   "nbconvert_exporter": "python",
   "pygments_lexer": "ipython3",
   "version": "3.10.1"
  }
 },
 "nbformat": 4,
 "nbformat_minor": 5
}
