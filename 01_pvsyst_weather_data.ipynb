{
 "cells": [
  {
   "cell_type": "markdown",
   "id": "b8c71cad",
   "metadata": {},
   "source": [
    "# Necessary Weather Data\n",
    "\n",
    "In this Jupyter notebook we note the necessary variables needed for PV production calculations. Moreover, we are going to list a series of possible weather databases."
   ]
  },
  {
   "cell_type": "markdown",
   "id": "6cf2bc16",
   "metadata": {},
   "source": [
    "## Weather databases\n",
    "\n",
    "1. Meteonorm 8.1\n",
    "2. PVGIS TMY\n",
    "3. SOLCast TMY\n",
    "4. Solar Anywhere TGY\n",
    "5. Solargis TMY\n",
    "6. NASA-SSE"
   ]
  },
  {
   "cell_type": "markdown",
   "id": "b952b81b",
   "metadata": {},
   "source": [
    "## Weather variables to take into account\n",
    "\n",
    "1. Global Horizontal Irradiance (GHI - kWh/m^2/month)\n",
    "2. Horizontal Diffuse Radiation (DHI - kWh/m^2/month)\n",
    "3. Temperature (celcius)\n",
    "4. Wind velocity (m/s)\n",
    "5. Linke turbidity (-)\n",
    "6. Relative Humidity (%)"
   ]
  },
  {
   "cell_type": "markdown",
   "id": "b66b1f5c",
   "metadata": {},
   "source": [
    "###### Side note on Linke Turbidity (TL)\n",
    "\n",
    "Linke turbidity (TL) is really a lumped “haziness” index that accounts for all the extra extinction of sunlight beyond what a perfectly clean, dry atmosphere would do. That “extra extinction” comes mainly from two things:\n",
    "\n",
    "Aerosols (pollution, dust, smoke, volcanic particles, etc.)\n",
    "This is the “pollution” part. Urban smog or Saharan dust events push TL upward.\n",
    "\n",
    "Water vapor absorption\n",
    "Humid tropical air or summer days with high precipitable water also increase TL.\n",
    "\n",
    "TL isn’t only a pollution indicator. A very humid but clean region (say, the Amazon) will also have a high TL even if the air is not polluted."
   ]
  },
  {
   "cell_type": "code",
   "execution_count": 13,
   "id": "72affb25",
   "metadata": {},
   "outputs": [
    {
     "name": "stdout",
     "output_type": "stream",
     "text": [
      "Fetching 2011 (PVGIS-SARAH3) …\n",
      "Fetching 2012 (PVGIS-SARAH3) …\n",
      "Fetching 2013 (PVGIS-SARAH3) …\n",
      "Fetching 2014 (PVGIS-SARAH3) …\n",
      "Fetching 2015 (PVGIS-SARAH3) …\n",
      "Fetching 2016 (PVGIS-SARAH3) …\n",
      "Fetching 2017 (PVGIS-SARAH3) …\n",
      "Fetching 2018 (PVGIS-SARAH3) …\n",
      "Fetching 2019 (PVGIS-SARAH3) …\n",
      "Fetching 2020 (PVGIS-SARAH3) …\n",
      "Fetching 2021 (PVGIS-SARAH3) …\n",
      "Fetching 2022 (PVGIS-SARAH3) …\n"
     ]
    }
   ],
   "source": [
    "# Fetch hourly PVGIS SARAH-3 with pvlib (multi-year)\n",
    "# pip install pvlib pandas pyarrow  (pyarrow optional for Parquet)\n",
    "\n",
    "from __future__ import annotations\n",
    "import datetime\n",
    "import requests\n",
    "import pandas as pd\n",
    "import pvlib\n",
    "\n",
    "LAT, LON = 41.9028, 12.4964\n",
    "START_YEAR = 2011       \n",
    "N_YEARS    = 12\n",
    "ALTITUDE_METERS = 0\n",
    "RADDATABASE = \"PVGIS-SARAH3\"\n",
    "API_BASE = \"https://re.jrc.ec.europa.eu/api/v5_3/\"\n",
    "OPEN_METEO_URL = \"https://archive-api.open-meteo.com/v1/archive\"\n",
    "\n",
    "\n",
    "def fetch_year(year: int) -> pd.DataFrame:\n",
    "    \"\"\"Return hourly PVGIS data (UTC index) with pvlib-mapped column names.\"\"\"\n",
    "    start, end = f\"{year}-01-01\", f\"{year}-12-31\"\n",
    "    df, meta = pvlib.iotools.get_pvgis_hourly(\n",
    "        LAT, LON,\n",
    "        start=start, end=end,\n",
    "        raddatabase=RADDATABASE,\n",
    "        components=True,               # get GHI/DHI/DNI etc.\n",
    "        usehorizon=True,\n",
    "        map_variables=True,\n",
    "        url=API_BASE,\n",
    "        outputformat=\"json\",\n",
    "    )\n",
    "    return df.sort_index(), meta\n",
    "\n",
    "def fetch_dewpoint(year):\n",
    "    start, end = f\"{year}-01-01\", f\"{year}-12-31\"\n",
    "    params = {\n",
    "        'latitude': LAT,\n",
    "        'longitude': LON,\n",
    "        'start_date': start,\n",
    "        'end_date': end,\n",
    "        'hourly': 'dew_point_2m,relative_humidity_2m,temperature_2m',\n",
    "        'timezone': 'auto'\n",
    "    }\n",
    "    \n",
    "    response = requests.get(OPEN_METEO_URL, params=params)\n",
    "    if response.status_code != 200:\n",
    "        raise Exception(f\"API request failed: {response.status_code}\")\n",
    "    \n",
    "    data = response.json()\n",
    "    \n",
    "    # Create DataFrame with dew point\n",
    "    meteo_df = pd.DataFrame({\n",
    "        'timestamp': pd.to_datetime(data['hourly']['time']),\n",
    "        'dew_point_2m': data['hourly']['dew_point_2m']\n",
    "    })\n",
    "    meteo_df = meteo_df.set_index('timestamp')\n",
    "    return meteo_df['dew_point_2m'].values\n",
    "\n",
    "\n",
    "all_years = []\n",
    "for i in range(N_YEARS):\n",
    "    y = START_YEAR + i\n",
    "    print(f\"Fetching {y} ({RADDATABASE}) …\")\n",
    "\n",
    "    dfx, meta = fetch_year(y)\n",
    "    ALTITUDE_METERS = meta['inputs']['location']['elevation']\n",
    "    # dfx['TL'] = pvlib.clearsky.lookup_linke_turbidity(dfx.index, LAT, LON).values\n",
    "    dfx.index = dfx.index - pd.Timedelta(minutes=10)\n",
    "    if dfx.index.tz is None or dfx.index.tz == datetime.timezone.utc:\n",
    "        dfx.index = dfx.index.tz_convert(\"Europe/Rome\")\n",
    "    dfx['dew_point_2m'] = fetch_dewpoint(y)\n",
    "    all_years.append(dfx)"
   ]
  },
  {
   "cell_type": "code",
   "execution_count": 14,
   "id": "ad6a04be",
   "metadata": {},
   "outputs": [
    {
     "data": {
      "text/html": [
       "<div>\n",
       "<style scoped>\n",
       "    .dataframe tbody tr th:only-of-type {\n",
       "        vertical-align: middle;\n",
       "    }\n",
       "\n",
       "    .dataframe tbody tr th {\n",
       "        vertical-align: top;\n",
       "    }\n",
       "\n",
       "    .dataframe thead th {\n",
       "        text-align: right;\n",
       "    }\n",
       "</style>\n",
       "<table border=\"1\" class=\"dataframe\">\n",
       "  <thead>\n",
       "    <tr style=\"text-align: right;\">\n",
       "      <th></th>\n",
       "      <th>poa_direct</th>\n",
       "      <th>poa_sky_diffuse</th>\n",
       "      <th>poa_ground_diffuse</th>\n",
       "      <th>solar_elevation</th>\n",
       "      <th>temp_air</th>\n",
       "      <th>wind_speed</th>\n",
       "      <th>Int</th>\n",
       "      <th>dew_point_2m</th>\n",
       "    </tr>\n",
       "    <tr>\n",
       "      <th>time</th>\n",
       "      <th></th>\n",
       "      <th></th>\n",
       "      <th></th>\n",
       "      <th></th>\n",
       "      <th></th>\n",
       "      <th></th>\n",
       "      <th></th>\n",
       "      <th></th>\n",
       "    </tr>\n",
       "  </thead>\n",
       "  <tbody>\n",
       "    <tr>\n",
       "      <th>2011-01-01 01:00:00+01:00</th>\n",
       "      <td>0.0</td>\n",
       "      <td>0.0</td>\n",
       "      <td>0.0</td>\n",
       "      <td>0.0</td>\n",
       "      <td>5.88</td>\n",
       "      <td>1.52</td>\n",
       "      <td>0</td>\n",
       "      <td>3.7</td>\n",
       "    </tr>\n",
       "    <tr>\n",
       "      <th>2011-01-01 02:00:00+01:00</th>\n",
       "      <td>0.0</td>\n",
       "      <td>0.0</td>\n",
       "      <td>0.0</td>\n",
       "      <td>0.0</td>\n",
       "      <td>5.55</td>\n",
       "      <td>1.66</td>\n",
       "      <td>0</td>\n",
       "      <td>3.8</td>\n",
       "    </tr>\n",
       "    <tr>\n",
       "      <th>2011-01-01 03:00:00+01:00</th>\n",
       "      <td>0.0</td>\n",
       "      <td>0.0</td>\n",
       "      <td>0.0</td>\n",
       "      <td>0.0</td>\n",
       "      <td>5.36</td>\n",
       "      <td>1.66</td>\n",
       "      <td>0</td>\n",
       "      <td>3.8</td>\n",
       "    </tr>\n",
       "    <tr>\n",
       "      <th>2011-01-01 04:00:00+01:00</th>\n",
       "      <td>0.0</td>\n",
       "      <td>0.0</td>\n",
       "      <td>0.0</td>\n",
       "      <td>0.0</td>\n",
       "      <td>4.88</td>\n",
       "      <td>1.79</td>\n",
       "      <td>0</td>\n",
       "      <td>3.6</td>\n",
       "    </tr>\n",
       "    <tr>\n",
       "      <th>2011-01-01 05:00:00+01:00</th>\n",
       "      <td>0.0</td>\n",
       "      <td>0.0</td>\n",
       "      <td>0.0</td>\n",
       "      <td>0.0</td>\n",
       "      <td>4.64</td>\n",
       "      <td>1.72</td>\n",
       "      <td>0</td>\n",
       "      <td>3.5</td>\n",
       "    </tr>\n",
       "  </tbody>\n",
       "</table>\n",
       "</div>"
      ],
      "text/plain": [
       "                           poa_direct  poa_sky_diffuse  poa_ground_diffuse  \\\n",
       "time                                                                         \n",
       "2011-01-01 01:00:00+01:00         0.0              0.0                 0.0   \n",
       "2011-01-01 02:00:00+01:00         0.0              0.0                 0.0   \n",
       "2011-01-01 03:00:00+01:00         0.0              0.0                 0.0   \n",
       "2011-01-01 04:00:00+01:00         0.0              0.0                 0.0   \n",
       "2011-01-01 05:00:00+01:00         0.0              0.0                 0.0   \n",
       "\n",
       "                           solar_elevation  temp_air  wind_speed  Int  \\\n",
       "time                                                                    \n",
       "2011-01-01 01:00:00+01:00              0.0      5.88        1.52    0   \n",
       "2011-01-01 02:00:00+01:00              0.0      5.55        1.66    0   \n",
       "2011-01-01 03:00:00+01:00              0.0      5.36        1.66    0   \n",
       "2011-01-01 04:00:00+01:00              0.0      4.88        1.79    0   \n",
       "2011-01-01 05:00:00+01:00              0.0      4.64        1.72    0   \n",
       "\n",
       "                           dew_point_2m  \n",
       "time                                     \n",
       "2011-01-01 01:00:00+01:00           3.7  \n",
       "2011-01-01 02:00:00+01:00           3.8  \n",
       "2011-01-01 03:00:00+01:00           3.8  \n",
       "2011-01-01 04:00:00+01:00           3.6  \n",
       "2011-01-01 05:00:00+01:00           3.5  "
      ]
     },
     "execution_count": 14,
     "metadata": {},
     "output_type": "execute_result"
    }
   ],
   "source": [
    "weather = pd.concat(all_years).sort_index()\n",
    "weather.head()"
   ]
  },
  {
   "cell_type": "markdown",
   "id": "0731cf18",
   "metadata": {},
   "source": [
    "#### Weather Data Preprocessing\n",
    "\n",
    "pvgis returns poa_direct, poa_sky_diffuse, poa_ground_diffuse. To mimick pvsyst as much as possible, we are going to transform them into GHI, DHI, DNI. This is done via pvlib."
   ]
  },
  {
   "cell_type": "code",
   "execution_count": 15,
   "id": "505d6e1d",
   "metadata": {},
   "outputs": [
    {
     "name": "stderr",
     "output_type": "stream",
     "text": [
      "c:\\dev\\data-analisys\\notes-on-pvlib\\venv\\lib\\site-packages\\pvlib\\irradiance.py:2515: RuntimeWarning: 681 points failed to converge after 30 iterations. best_diff:\n",
      "time\n",
      "2011-01-12 08:00:00+01:00       2.365347\n",
      "2011-01-13 08:00:00+01:00       2.321227\n",
      "2011-01-14 08:00:00+01:00       2.256008\n",
      "2011-01-16 08:00:00+01:00       2.123163\n",
      "2011-01-17 08:00:00+01:00    9999.000000\n",
      "                                ...     \n",
      "2022-10-17 08:00:00+02:00    9999.000000\n",
      "2022-10-18 08:00:00+02:00    9999.000000\n",
      "2022-10-20 08:00:00+02:00    9999.000000\n",
      "2022-10-24 08:00:00+02:00    9999.000000\n",
      "2022-12-12 08:00:00+01:00       1.172537\n",
      "Length: 681, dtype: float64\n",
      "  warnings.warn(\n"
     ]
    }
   ],
   "source": [
    "import pvlib\n",
    "\n",
    "loc = pvlib.location.Location(LAT, LON, tz=\"Europe/Rome\", altitude=ALTITUDE_METERS)\n",
    "solpos = loc.get_solarposition(weather.index)\n",
    "aoi = pvlib.irradiance.aoi(0, 0, solpos['apparent_zenith'], solpos['azimuth'])\n",
    "poa_total = weather['poa_direct'] + weather['poa_sky_diffuse'] + weather['poa_ground_diffuse']\n",
    "mask = (poa_total > 20)\n",
    "\n",
    "weather[['ghi','dni','dhi']] = 0.0\n",
    "am_rel  = pvlib.atmosphere.get_relative_airmass(solpos['apparent_zenith'])\n",
    "pressure = pvlib.atmosphere.alt2pres(ALTITUDE_METERS)\n",
    "am_abs = pvlib.atmosphere.get_absolute_airmass(am_rel, pressure)\n",
    "\n",
    "weather['airmass'] = am_abs\n",
    "weather['relative_humidity'] = pvlib.atmosphere.rh_from_tdew(weather['temp_air'], weather['dew_point_2m'])\n",
    "weather['precipitable_water'] = pvlib.atmosphere.gueymard94_pw(\n",
    "    weather['temp_air'], weather['relative_humidity']\n",
    ")\n",
    "\n",
    "result = pvlib.irradiance.gti_dirint(\n",
    "    poa_global=(weather.loc[mask, 'poa_direct'] + weather.loc[mask, 'poa_sky_diffuse'] + weather.loc[mask, 'poa_ground_diffuse']),\n",
    "    aoi=aoi.loc[mask],\n",
    "    solar_zenith=solpos.loc[mask, 'apparent_zenith'],\n",
    "    solar_azimuth=solpos.loc[mask, 'azimuth'],\n",
    "    times=weather.index[mask],\n",
    "    surface_tilt=0,\n",
    "    surface_azimuth=0,\n",
    ")\n",
    "\n",
    "weather.update(result)"
   ]
  },
  {
   "cell_type": "markdown",
   "id": "f7fde482",
   "metadata": {},
   "source": [
    "# PV plant anagraphics definition\n",
    "\n",
    "We are now going to take into account the specifics of the PV plant. In particular, the mounting configuration, the PV tracking configuration, the cell temperature model according to pvsyst's practices."
   ]
  },
  {
   "cell_type": "code",
   "execution_count": null,
   "id": "086f35e5",
   "metadata": {},
   "outputs": [],
   "source": [
    "TRACKING_TYPE = \"fixed\"  # \"fixed\" | \"single_axis\" | \"two_axis\"\n",
    "RACKING_MODEL = \"open_rack\"  # \"open_rack\" or \"close_mount\" (used for temp/IAM conventions)\n",
    "FIXED_TILT = 0\n",
    "FIXED_AZIMUTH = 0\n",
    "AXIS_TILT = 0.0\n",
    "AXIS_AZIMUTH = 180.0       # N-S axis: 0 or 180 (pvlib uses degrees from North, CW)\n",
    "MAX_ANGLE = 60.0\n",
    "BACKTRACK = False\n",
    "GCR = 0.35\n",
    "K = 0.05\n",
    "U_C, U_V = (29.0, 0.0) if RACKING_MODEL == \"open_rack\" else (20.0, 6.0)\n",
    "\n",
    "cecm = pvlib.pvsystem.retrieve_sam('cecmod')\n",
    "ceci = pvlib.pvsystem.retrieve_sam('cecinverter')\n",
    "module = cecm['A10Green_Technology_A10J_S72_175']\n",
    "module['K'] = module.get('K', K)\n",
    "inverter = ceci['ABB__PVI_10_0_I_OUTD_x_US_208_y__208V_']\n",
    "eta_m = float(module['I_mp_ref']*module['V_mp_ref']) / (1000.0 * float(module['A_c']))\n",
    "\n",
    "temperature_model_parameters = dict(u_c=U_C, u_v=U_V, eta_m=eta_m, alpha_absorption=0.9)"
   ]
  },
  {
   "cell_type": "code",
   "execution_count": 17,
   "id": "93533a7d",
   "metadata": {},
   "outputs": [],
   "source": [
    "if TRACKING_TYPE == \"fixed\":\n",
    "    array = pvlib.pvsystem.Array(\n",
    "        mount=pvlib.pvsystem.FixedMount(\n",
    "            surface_tilt=FIXED_TILT,\n",
    "            surface_azimuth=FIXED_AZIMUTH,\n",
    "            racking_model=RACKING_MODEL,\n",
    "        ),\n",
    "        module_parameters=module,\n",
    "        temperature_model_parameters=temperature_model_parameters,\n",
    "        surface_type='concrete', # instead of albedo\n",
    "        strings=6,\n",
    "        modules_per_string=8\n",
    "    )\n",
    "    system = pvlib.pvsystem.PVSystem(arrays=[array], inverter_parameters=inverter)"
   ]
  },
  {
   "cell_type": "code",
   "execution_count": 18,
   "id": "2fa38e3c",
   "metadata": {},
   "outputs": [],
   "source": [
    "if TRACKING_TYPE == 'single_axis':\n",
    "    mount = pvlib.pvsystem.SingleAxisTrackerMount(\n",
    "        gcr=GCR,\n",
    "        backtrack=BACKTRACK,\n",
    "        max_angle=MAX_ANGLE,\n",
    "        axis_tilt=AXIS_TILT,\n",
    "        axis_azimuth=AXIS_AZIMUTH\n",
    "    )\n",
    "    array = pvlib.pvsystem.Array(\n",
    "        mount,\n",
    "        module_parameters=module,\n",
    "        # modules_per_string=modules_per_string,\n",
    "        temperature_model_parameters=temperature_model_parameters,\n",
    "        surface_type='concrete',\n",
    "        strings=6,\n",
    "        modules_per_string=8\n",
    "        # strings=strings_per_inverter\n",
    "    )\n",
    "    system = pvlib.pvsystem.PVSystem(\n",
    "        array,\n",
    "        inverter_parameters=inverter\n",
    "    )"
   ]
  },
  {
   "cell_type": "code",
   "execution_count": 19,
   "id": "75ea468d",
   "metadata": {},
   "outputs": [],
   "source": [
    "from models.pv_custom.dual_axis_tracker_mount import DualAxisTrackerMount\n",
    "\n",
    "\n",
    "if TRACKING_TYPE == 'two_axis':\n",
    "    array = pvlib.pvsystem.Array(\n",
    "        mount=DualAxisTrackerMount(),\n",
    "        module_parameters=module,\n",
    "        temperature_model_parameters=temperature_model_parameters,\n",
    "        surface_type='concrete',\n",
    "        strings=6,\n",
    "        modules_per_string=8\n",
    "    )\n",
    "    system = pvlib.pvsystem.PVSystem(\n",
    "        array,\n",
    "        inverter_parameters=inverter\n",
    "    )"
   ]
  },
  {
   "cell_type": "markdown",
   "id": "467ec360",
   "metadata": {},
   "source": [
    "# Power Output Calculation"
   ]
  },
  {
   "cell_type": "code",
   "execution_count": 20,
   "id": "bbd68e88",
   "metadata": {},
   "outputs": [
    {
     "data": {
      "text/plain": [
       "ModelChain: \n",
       "  name: None\n",
       "  clearsky_model: ineichen\n",
       "  transposition_model: perez\n",
       "  solar_position_method: nrel_numpy\n",
       "  airmass_model: kastenyoung1989\n",
       "  dc_model: cec\n",
       "  ac_model: sandia_inverter\n",
       "  aoi_model: ashrae_aoi_loss\n",
       "  spectral_model: first_solar_spectral_loss\n",
       "  temperature_model: pvsyst_temp\n",
       "  losses_model: pvwatts_losses"
      ]
     },
     "execution_count": 20,
     "metadata": {},
     "output_type": "execute_result"
    }
   ],
   "source": [
    "mc_kwargs = dict(\n",
    "    aoi_model='ashrae',        # closer to many PVSyst projects\n",
    "    spectral_model='first_solar',\n",
    "    temperature_model='pvsyst',\n",
    "    transposition_model='perez',\n",
    "    losses_model='pvwatts',\n",
    ")\n",
    "orientation_strategy = None\n",
    "\n",
    "mc = pvlib.modelchain.ModelChain(\n",
    "    system, \n",
    "    loc, \n",
    "    # orientation_strategy=orientation_strategy, \n",
    "    **mc_kwargs\n",
    "    )\n",
    "\n",
    "mc.run_model(weather)"
   ]
  },
  {
   "cell_type": "code",
   "execution_count": 21,
   "id": "178f1f47",
   "metadata": {},
   "outputs": [
    {
     "data": {
      "text/plain": [
       "[<matplotlib.lines.Line2D at 0x1f415305c90>]"
      ]
     },
     "execution_count": 21,
     "metadata": {},
     "output_type": "execute_result"
    },
    {
     "data": {
      "image/png": "[encoded data removed]",
      "text/plain": [
       "<Figure size 640x480 with 1 Axes>"
      ]
     },
     "metadata": {},
     "output_type": "display_data"
    }
   ],
   "source": [
    "import matplotlib.pyplot as plt\n",
    "\n",
    "plt.plot(mc.results.ac.values[24*174:24*175])"
   ]
  },
  {
   "cell_type": "code",
   "execution_count": 22,
   "id": "05b9d0ba",
   "metadata": {},
   "outputs": [
    {
     "data": {
      "text/plain": [
       "count    53196.000000\n",
       "mean         3.994968\n",
       "std          5.163142\n",
       "min          1.046680\n",
       "25%          1.429295\n",
       "50%          2.165497\n",
       "75%          3.871639\n",
       "max         37.591149\n",
       "Name: airmass, dtype: float64"
      ]
     },
     "execution_count": 22,
     "metadata": {},
     "output_type": "execute_result"
    }
   ],
   "source": [
    "weather['airmass'].describe()"
   ]
  },
  {
   "cell_type": "code",
   "execution_count": null,
   "id": "c91df03c",
   "metadata": {},
   "outputs": [],
   "source": []
  }
 ],
 "metadata": {
  "kernelspec": {
   "display_name": "venv",
   "language": "python",
   "name": "python3"
  },
  "language_info": {
   "codemirror_mode": {
    "name": "ipython",
    "version": 3
   },
   "file_extension": ".py",
   "mimetype": "text/x-python",
   "name": "python",
   "nbconvert_exporter": "python",
   "pygments_lexer": "ipython3",
   "version": "3.10.1"
  }
 },
 "nbformat": 4,
 "nbformat_minor": 5
}
